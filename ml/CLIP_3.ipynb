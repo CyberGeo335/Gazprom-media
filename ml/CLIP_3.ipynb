{
 "cells": [
  {
   "cell_type": "code",
   "id": "initial_id",
   "metadata": {
    "collapsed": true,
    "ExecuteTime": {
     "end_time": "2024-06-07T22:20:30.582623Z",
     "start_time": "2024-06-07T22:20:28.078388Z"
    }
   },
   "source": [
    "import torch\n",
    "import torch.nn as nn\n",
    "import torch.optim as optim\n",
    "from torchvision import transforms, datasets\n",
    "from torch.utils.data import DataLoader\n",
    "from transformers import CLIPProcessor, CLIPModel\n",
    "from tqdm import tqdm\n",
    "from PIL import ImageFile"
   ],
   "outputs": [],
   "execution_count": 1
  },
  {
   "metadata": {
    "ExecuteTime": {
     "end_time": "2024-06-07T22:20:30.646625Z",
     "start_time": "2024-06-07T22:20:30.583624Z"
    }
   },
   "cell_type": "code",
   "source": [
    "# Включение профилирования CUDNN\n",
    "torch.backends.cudnn.benchmark = True\n",
    "\n",
    "DEVICE = torch.device(\"cuda\" if torch.cuda.is_available() else \"cpu\")\n",
    "DEVICE"
   ],
   "id": "5278cf1b1a91c735",
   "outputs": [
    {
     "data": {
      "text/plain": [
       "device(type='cuda')"
      ]
     },
     "execution_count": 2,
     "metadata": {},
     "output_type": "execute_result"
    }
   ],
   "execution_count": 2
  },
  {
   "metadata": {
    "ExecuteTime": {
     "end_time": "2024-06-07T22:20:30.662624Z",
     "start_time": "2024-06-07T22:20:30.647626Z"
    }
   },
   "cell_type": "code",
   "source": [
    "# Путь к данным animals\n",
    "train_path = 'D:\\\\ProgPrj\\\\dsProjects\\\\gazprom-media\\\\ml\\\\train'\n",
    "\n",
    "test_path = 'D:\\\\ProgPrj\\\\dsProjects\\\\gazprom-media\\\\ml\\\\test'"
   ],
   "id": "c5ed686f537b385d",
   "outputs": [],
   "execution_count": 3
  },
  {
   "metadata": {
    "ExecuteTime": {
     "end_time": "2024-06-07T22:20:30.678199Z",
     "start_time": "2024-06-07T22:20:30.663624Z"
    }
   },
   "cell_type": "code",
   "source": [
    "# Преобразования для тренировочного и валидационного наборов данных\n",
    "train_transform = transforms.Compose([\n",
    "    transforms.RandomHorizontalFlip(),\n",
    "    transforms.RandomVerticalFlip(),\n",
    "    # Случайно применяет изменения яркости, контрастности, короче светокор))\n",
    "    transforms.RandomApply(torch.nn.ModuleList([transforms.ColorJitter()]), p=0.25),\n",
    "    transforms.Resize((224, 224)),\n",
    "    transforms.RandomRotation(degrees=(-10, 10)),\n",
    "    # преобразует изображение в оттенки серого \n",
    "    transforms.RandomGrayscale(p=0.2),\n",
    "    transforms.ToTensor(),\n",
    "    transforms.Normalize([0.485, 0.456, 0.406], [0.229, 0.224, 0.225]),\n",
    "    transforms.RandomErasing(p=0.1, value='random'),\n",
    "    # аффинное преобразование (смещение)\n",
    "    transforms.RandomApply(torch.nn.ModuleList([transforms.RandomAffine(degrees=0, translate=(0.1, 0.1))]), p=0.25),\n",
    "    # перспективное искажение\n",
    "    transforms.RandomApply(torch.nn.ModuleList([transforms.RandomPerspective(distortion_scale=0.5, p=0.5)]), p=0.25),\n",
    "\n",
    "    transforms.RandomErasing(p=0.25)\n",
    "])"
   ],
   "id": "212958aaf684d54a",
   "outputs": [],
   "execution_count": 4
  },
  {
   "metadata": {
    "ExecuteTime": {
     "end_time": "2024-06-07T22:20:30.693766Z",
     "start_time": "2024-06-07T22:20:30.679757Z"
    }
   },
   "cell_type": "code",
   "source": [
    "val_transform = transforms.Compose([\n",
    "    transforms.Resize((224, 224)),\n",
    "    transforms.ToTensor(),\n",
    "    transforms.Normalize([0.485, 0.456, 0.406], [0.229, 0.224, 0.225])\n",
    "])"
   ],
   "id": "783fb179017789c9",
   "outputs": [],
   "execution_count": 5
  },
  {
   "metadata": {
    "ExecuteTime": {
     "end_time": "2024-06-07T22:20:30.962004Z",
     "start_time": "2024-06-07T22:20:30.694763Z"
    }
   },
   "cell_type": "code",
   "source": [
    "train_dataset = datasets.ImageFolder(train_path, transform=train_transform)\n",
    "\n",
    "val_dataset = datasets.ImageFolder(test_path, transform=val_transform)"
   ],
   "id": "a93d8504447614d0",
   "outputs": [],
   "execution_count": 6
  },
  {
   "metadata": {
    "ExecuteTime": {
     "end_time": "2024-06-07T22:20:30.978003Z",
     "start_time": "2024-06-07T22:20:30.963005Z"
    }
   },
   "cell_type": "code",
   "source": "print(len(train_dataset.class_to_idx))",
   "id": "7deff2c4efe32b22",
   "outputs": [
    {
     "name": "stdout",
     "output_type": "stream",
     "text": [
      "101\n"
     ]
    }
   ],
   "execution_count": 7
  },
  {
   "metadata": {
    "ExecuteTime": {
     "end_time": "2024-06-07T22:20:30.994002Z",
     "start_time": "2024-06-07T22:20:30.979004Z"
    }
   },
   "cell_type": "code",
   "source": [
    "batch_size = 512\n",
    "\n",
    "num_w = 12\n",
    "\n",
    "train_loader = DataLoader(train_dataset, batch_size=batch_size, shuffle=True, num_workers=num_w, pin_memory=True)\n",
    "\n",
    "val_loader = DataLoader(val_dataset, batch_size=batch_size, shuffle=False, num_workers=num_w, pin_memory=True)"
   ],
   "id": "27b401caf53c8b20",
   "outputs": [],
   "execution_count": 8
  },
  {
   "metadata": {
    "ExecuteTime": {
     "end_time": "2024-06-07T22:20:41.435137Z",
     "start_time": "2024-06-07T22:20:30.995002Z"
    }
   },
   "cell_type": "code",
   "source": [
    "model = CLIPModel.from_pretrained(\"openai/clip-vit-base-patch32\")\n",
    "processor = CLIPProcessor.from_pretrained(\"openai/clip-vit-base-patch32\")"
   ],
   "id": "f16db35a16e59afe",
   "outputs": [
    {
     "name": "stderr",
     "output_type": "stream",
     "text": [
      "C:\\Users\\Geo\\AppData\\Local\\Programs\\Python\\Python310\\lib\\site-packages\\huggingface_hub\\file_download.py:1132: FutureWarning: `resume_download` is deprecated and will be removed in version 1.0.0. Downloads always resume when possible. If you want to force a new download, use `force_download=True`.\n",
      "  warnings.warn(\n",
      "C:\\Users\\Geo\\AppData\\Local\\Programs\\Python\\Python310\\lib\\site-packages\\torch\\_utils.py:831: UserWarning: TypedStorage is deprecated. It will be removed in the future and UntypedStorage will be the only storage class. This should only matter to you if you are using storages directly.  To access UntypedStorage directly, use tensor.untyped_storage() instead of tensor.storage()\n",
      "  return self.fget.__get__(instance, owner)()\n"
     ]
    }
   ],
   "execution_count": 9
  },
  {
   "metadata": {
    "ExecuteTime": {
     "end_time": "2024-06-07T22:20:41.450139Z",
     "start_time": "2024-06-07T22:20:41.436139Z"
    }
   },
   "cell_type": "code",
   "source": [
    "# Размерность выходных признаков из модели CLIP\n",
    "hidden_size = model.config.projection_dim"
   ],
   "id": "ea4afbf0f899ebfd",
   "outputs": [],
   "execution_count": 10
  },
  {
   "metadata": {
    "ExecuteTime": {
     "end_time": "2024-06-07T22:20:41.466137Z",
     "start_time": "2024-06-07T22:20:41.450139Z"
    }
   },
   "cell_type": "code",
   "source": [
    "class CustomCLIPModel(nn.Module):\n",
    "    def __init__(self, clip_model, num_classes):\n",
    "        super(CustomCLIPModel, self).__init__()\n",
    "        self.clip_model = clip_model\n",
    "        self.fc1 = nn.Linear(hidden_size, 512)\n",
    "        self.relu = nn.ReLU()\n",
    "        self.dropout1 = nn.Dropout(0.5)\n",
    "        self.fc2 = nn.Linear(512, 256)\n",
    "        self.dropout2 = nn.Dropout(0.5)\n",
    "        self.fc3 = nn.Linear(256, num_classes)\n",
    "\n",
    "    def forward(self, x):\n",
    "        with torch.no_grad():\n",
    "            features = self.clip_model.get_image_features(x)\n",
    "        x = self.fc1(features)\n",
    "        x = self.relu(x)\n",
    "        x = self.dropout1(x)\n",
    "        x = self.fc2(x)\n",
    "        x = self.relu(x)\n",
    "        x = self.dropout2(x)\n",
    "        x = self.fc3(x)\n",
    "        return x\n"
   ],
   "id": "8dacdd342e9dc45d",
   "outputs": [],
   "execution_count": 11
  },
  {
   "metadata": {
    "ExecuteTime": {
     "end_time": "2024-06-07T22:20:41.688887Z",
     "start_time": "2024-06-07T22:20:41.467138Z"
    }
   },
   "cell_type": "code",
   "source": [
    "num_classes = len(train_dataset.classes)\n",
    "custom_model = CustomCLIPModel(model, num_classes).to(DEVICE)\n",
    "\n",
    "#criterion = nn.CrossEntropyLoss()\n",
    "criterion = nn.CrossEntropyLoss(label_smoothing=0.1)\n",
    "\n",
    "optimizer = optim.AdamW(custom_model.parameters(), lr=1e-3, weight_decay=1e-4) # 1e-4\n",
    "#optimizer = optim.AdamW(custom_model.parameters(), lr=1e-4, weight_decay=1e-5)\n",
    "\n",
    "#scheduler = optim.lr_scheduler.ReduceLROnPlateau(optimizer, mode='max', factor=0.5, patience=5, verbose=True)\n",
    "scheduler = optim.lr_scheduler.CosineAnnealingLR(optimizer, T_max=10)"
   ],
   "id": "15862084396cf40",
   "outputs": [],
   "execution_count": 12
  },
  {
   "metadata": {
    "ExecuteTime": {
     "end_time": "2024-06-07T22:20:41.704887Z",
     "start_time": "2024-06-07T22:20:41.689887Z"
    }
   },
   "cell_type": "code",
   "source": "from torch.cuda.amp import autocast, GradScaler",
   "id": "c742191788c6c2c9",
   "outputs": [],
   "execution_count": 13
  },
  {
   "metadata": {
    "ExecuteTime": {
     "end_time": "2024-06-07T22:20:41.720496Z",
     "start_time": "2024-06-07T22:20:41.706887Z"
    }
   },
   "cell_type": "code",
   "source": [
    "num_epochs = 120\n",
    "train_loss_history = []\n",
    "val_accuracy_history = []\n",
    "val_f1_history = []\n",
    "\n",
    "scaler = torch.cuda.amp.GradScaler()"
   ],
   "id": "7c6ae453aa8c36bb",
   "outputs": [],
   "execution_count": 14
  },
  {
   "metadata": {
    "ExecuteTime": {
     "end_time": "2024-06-07T22:20:41.736501Z",
     "start_time": "2024-06-07T22:20:41.721503Z"
    }
   },
   "cell_type": "code",
   "source": [
    "# Разморозка слоев модели CLIP для дообучения\n",
    "for param in custom_model.clip_model.parameters():\n",
    "    param.requires_grad = True"
   ],
   "id": "7873375c1fb49ebe",
   "outputs": [],
   "execution_count": 15
  },
  {
   "metadata": {
    "ExecuteTime": {
     "end_time": "2024-06-08T02:59:05.965316Z",
     "start_time": "2024-06-07T22:20:41.737503Z"
    }
   },
   "cell_type": "code",
   "source": [
    "from sklearn.metrics import accuracy_score, f1_score\n",
    "\n",
    "for epoch in range(num_epochs):\n",
    "    ImageFile.LOAD_TRUNCATED_IMAGES = True\n",
    "    custom_model.train()\n",
    "    running_loss = 0.0\n",
    "    train_loader_tqdm = tqdm(train_loader, desc=f'Epoch {epoch+1}/{num_epochs}')\n",
    "\n",
    "    for inputs, labels in train_loader_tqdm:\n",
    "        inputs, labels = inputs.to(DEVICE, non_blocking=True), labels.to(DEVICE, non_blocking=True)\n",
    "\n",
    "        optimizer.zero_grad()\n",
    "\n",
    "        with torch.cuda.amp.autocast():\n",
    "            outputs = custom_model(inputs)\n",
    "            loss = criterion(outputs, labels)\n",
    "\n",
    "        scaler.scale(loss).backward()\n",
    "        scaler.step(optimizer)\n",
    "        scaler.update()\n",
    "\n",
    "        running_loss += loss.item() * inputs.size(0)\n",
    "        train_loader_tqdm.set_postfix(loss=loss.item())\n",
    "\n",
    "    epoch_loss = running_loss / len(train_dataset)\n",
    "    train_loss_history.append(epoch_loss)\n",
    "\n",
    "    # Валидация модели\n",
    "    custom_model.eval()\n",
    "    val_loss = 0.0\n",
    "    all_labels = []\n",
    "    all_predictions = []\n",
    "\n",
    "    with torch.no_grad():\n",
    "        for inputs, labels in val_loader:\n",
    "            inputs, labels = inputs.to(DEVICE, non_blocking=True), labels.to(DEVICE, non_blocking=True)\n",
    "\n",
    "            with torch.cuda.amp.autocast():\n",
    "                outputs = custom_model(inputs)\n",
    "                loss = criterion(outputs, labels)\n",
    "\n",
    "            val_loss += loss.item() * inputs.size(0)\n",
    "            all_labels.extend(labels.cpu().numpy())\n",
    "            all_predictions.extend(outputs.argmax(dim=1).cpu().numpy())\n",
    "\n",
    "    val_loss /= len(val_dataset)\n",
    "    accuracy = accuracy_score(all_labels, all_predictions)\n",
    "    f1 = f1_score(all_labels, all_predictions, average='weighted')\n",
    "\n",
    "    print(f'Epoch {epoch+1}/{num_epochs} - Train Loss: {epoch_loss:.4f}, Val Loss: {val_loss:.4f}, Val Accuracy: {accuracy:.4f}, Val F1-Score: {f1:.4f}')\n",
    "    #scheduler.step(accuracy)\n",
    "    scheduler.step()"
   ],
   "id": "75bb30fb7d075ad0",
   "outputs": [
    {
     "name": "stderr",
     "output_type": "stream",
     "text": [
      "Epoch 1/120: 100%|██████████| 148/148 [01:37<00:00,  1.51it/s, loss=2.82]\n"
     ]
    },
    {
     "name": "stdout",
     "output_type": "stream",
     "text": [
      "Epoch 1/120 - Train Loss: 3.4599, Val Loss: 1.8106, Val Accuracy: 0.7439, Val F1-Score: 0.7366\n"
     ]
    },
    {
     "name": "stderr",
     "output_type": "stream",
     "text": [
      "Epoch 2/120: 100%|██████████| 148/148 [01:36<00:00,  1.53it/s, loss=2.46]\n"
     ]
    },
    {
     "name": "stdout",
     "output_type": "stream",
     "text": [
      "Epoch 2/120 - Train Loss: 2.6840, Val Loss: 1.5992, Val Accuracy: 0.7958, Val F1-Score: 0.7908\n"
     ]
    },
    {
     "name": "stderr",
     "output_type": "stream",
     "text": [
      "Epoch 3/120: 100%|██████████| 148/148 [01:36<00:00,  1.53it/s, loss=2.5] \n"
     ]
    },
    {
     "name": "stdout",
     "output_type": "stream",
     "text": [
      "Epoch 3/120 - Train Loss: 2.5554, Val Loss: 1.5326, Val Accuracy: 0.8135, Val F1-Score: 0.8120\n"
     ]
    },
    {
     "name": "stderr",
     "output_type": "stream",
     "text": [
      "Epoch 4/120: 100%|██████████| 148/148 [01:35<00:00,  1.54it/s, loss=2.59]\n"
     ]
    },
    {
     "name": "stdout",
     "output_type": "stream",
     "text": [
      "Epoch 4/120 - Train Loss: 2.4867, Val Loss: 1.4969, Val Accuracy: 0.8187, Val F1-Score: 0.8161\n"
     ]
    },
    {
     "name": "stderr",
     "output_type": "stream",
     "text": [
      "Epoch 5/120: 100%|██████████| 148/148 [01:35<00:00,  1.55it/s, loss=2.42]\n"
     ]
    },
    {
     "name": "stdout",
     "output_type": "stream",
     "text": [
      "Epoch 5/120 - Train Loss: 2.4484, Val Loss: 1.4705, Val Accuracy: 0.8266, Val F1-Score: 0.8245\n"
     ]
    },
    {
     "name": "stderr",
     "output_type": "stream",
     "text": [
      "Epoch 6/120: 100%|██████████| 148/148 [01:35<00:00,  1.55it/s, loss=2.37]\n"
     ]
    },
    {
     "name": "stdout",
     "output_type": "stream",
     "text": [
      "Epoch 6/120 - Train Loss: 2.4220, Val Loss: 1.4579, Val Accuracy: 0.8275, Val F1-Score: 0.8254\n"
     ]
    },
    {
     "name": "stderr",
     "output_type": "stream",
     "text": [
      "Epoch 7/120: 100%|██████████| 148/148 [01:35<00:00,  1.55it/s, loss=2.35]\n"
     ]
    },
    {
     "name": "stdout",
     "output_type": "stream",
     "text": [
      "Epoch 7/120 - Train Loss: 2.3979, Val Loss: 1.4460, Val Accuracy: 0.8323, Val F1-Score: 0.8311\n"
     ]
    },
    {
     "name": "stderr",
     "output_type": "stream",
     "text": [
      "Epoch 8/120: 100%|██████████| 148/148 [01:36<00:00,  1.54it/s, loss=2.4] \n"
     ]
    },
    {
     "name": "stdout",
     "output_type": "stream",
     "text": [
      "Epoch 8/120 - Train Loss: 2.3824, Val Loss: 1.4386, Val Accuracy: 0.8335, Val F1-Score: 0.8322\n"
     ]
    },
    {
     "name": "stderr",
     "output_type": "stream",
     "text": [
      "Epoch 9/120: 100%|██████████| 148/148 [01:34<00:00,  1.56it/s, loss=2.39]\n"
     ]
    },
    {
     "name": "stdout",
     "output_type": "stream",
     "text": [
      "Epoch 9/120 - Train Loss: 2.3751, Val Loss: 1.4340, Val Accuracy: 0.8328, Val F1-Score: 0.8314\n"
     ]
    },
    {
     "name": "stderr",
     "output_type": "stream",
     "text": [
      "Epoch 10/120: 100%|██████████| 148/148 [01:35<00:00,  1.55it/s, loss=2.4] \n"
     ]
    },
    {
     "name": "stdout",
     "output_type": "stream",
     "text": [
      "Epoch 10/120 - Train Loss: 2.3756, Val Loss: 1.4324, Val Accuracy: 0.8337, Val F1-Score: 0.8322\n"
     ]
    },
    {
     "name": "stderr",
     "output_type": "stream",
     "text": [
      "Epoch 11/120: 100%|██████████| 148/148 [01:35<00:00,  1.56it/s, loss=2.37]\n"
     ]
    },
    {
     "name": "stdout",
     "output_type": "stream",
     "text": [
      "Epoch 11/120 - Train Loss: 2.3711, Val Loss: 1.4324, Val Accuracy: 0.8337, Val F1-Score: 0.8322\n"
     ]
    },
    {
     "name": "stderr",
     "output_type": "stream",
     "text": [
      "Epoch 12/120: 100%|██████████| 148/148 [01:35<00:00,  1.55it/s, loss=2.5] \n"
     ]
    },
    {
     "name": "stdout",
     "output_type": "stream",
     "text": [
      "Epoch 12/120 - Train Loss: 2.3695, Val Loss: 1.4319, Val Accuracy: 0.8340, Val F1-Score: 0.8325\n"
     ]
    },
    {
     "name": "stderr",
     "output_type": "stream",
     "text": [
      "Epoch 13/120: 100%|██████████| 148/148 [01:36<00:00,  1.54it/s, loss=2.41]\n"
     ]
    },
    {
     "name": "stdout",
     "output_type": "stream",
     "text": [
      "Epoch 13/120 - Train Loss: 2.3737, Val Loss: 1.4294, Val Accuracy: 0.8353, Val F1-Score: 0.8340\n"
     ]
    },
    {
     "name": "stderr",
     "output_type": "stream",
     "text": [
      "Epoch 14/120: 100%|██████████| 148/148 [01:35<00:00,  1.55it/s, loss=2.35]\n"
     ]
    },
    {
     "name": "stdout",
     "output_type": "stream",
     "text": [
      "Epoch 14/120 - Train Loss: 2.3691, Val Loss: 1.4253, Val Accuracy: 0.8367, Val F1-Score: 0.8355\n"
     ]
    },
    {
     "name": "stderr",
     "output_type": "stream",
     "text": [
      "Epoch 15/120: 100%|██████████| 148/148 [01:35<00:00,  1.54it/s, loss=2.21]\n"
     ]
    },
    {
     "name": "stdout",
     "output_type": "stream",
     "text": [
      "Epoch 15/120 - Train Loss: 2.3674, Val Loss: 1.4242, Val Accuracy: 0.8351, Val F1-Score: 0.8336\n"
     ]
    },
    {
     "name": "stderr",
     "output_type": "stream",
     "text": [
      "Epoch 16/120: 100%|██████████| 148/148 [01:35<00:00,  1.55it/s, loss=2.38]\n"
     ]
    },
    {
     "name": "stdout",
     "output_type": "stream",
     "text": [
      "Epoch 16/120 - Train Loss: 2.3642, Val Loss: 1.4169, Val Accuracy: 0.8377, Val F1-Score: 0.8364\n"
     ]
    },
    {
     "name": "stderr",
     "output_type": "stream",
     "text": [
      "Epoch 17/120: 100%|██████████| 148/148 [01:34<00:00,  1.56it/s, loss=2.27]\n"
     ]
    },
    {
     "name": "stdout",
     "output_type": "stream",
     "text": [
      "Epoch 17/120 - Train Loss: 2.3726, Val Loss: 1.4139, Val Accuracy: 0.8379, Val F1-Score: 0.8364\n"
     ]
    },
    {
     "name": "stderr",
     "output_type": "stream",
     "text": [
      "Epoch 18/120: 100%|██████████| 148/148 [01:37<00:00,  1.52it/s, loss=2.43]\n"
     ]
    },
    {
     "name": "stdout",
     "output_type": "stream",
     "text": [
      "Epoch 18/120 - Train Loss: 2.3597, Val Loss: 1.4072, Val Accuracy: 0.8407, Val F1-Score: 0.8398\n"
     ]
    },
    {
     "name": "stderr",
     "output_type": "stream",
     "text": [
      "Epoch 19/120: 100%|██████████| 148/148 [01:36<00:00,  1.53it/s, loss=2.42]\n"
     ]
    },
    {
     "name": "stdout",
     "output_type": "stream",
     "text": [
      "Epoch 19/120 - Train Loss: 2.3509, Val Loss: 1.4044, Val Accuracy: 0.8383, Val F1-Score: 0.8365\n"
     ]
    },
    {
     "name": "stderr",
     "output_type": "stream",
     "text": [
      "Epoch 20/120: 100%|██████████| 148/148 [01:37<00:00,  1.52it/s, loss=2.37]\n"
     ]
    },
    {
     "name": "stdout",
     "output_type": "stream",
     "text": [
      "Epoch 20/120 - Train Loss: 2.3503, Val Loss: 1.3961, Val Accuracy: 0.8417, Val F1-Score: 0.8404\n"
     ]
    },
    {
     "name": "stderr",
     "output_type": "stream",
     "text": [
      "Epoch 21/120: 100%|██████████| 148/148 [01:36<00:00,  1.53it/s, loss=2.37]\n"
     ]
    },
    {
     "name": "stdout",
     "output_type": "stream",
     "text": [
      "Epoch 21/120 - Train Loss: 2.3399, Val Loss: 1.3904, Val Accuracy: 0.8434, Val F1-Score: 0.8421\n"
     ]
    },
    {
     "name": "stderr",
     "output_type": "stream",
     "text": [
      "Epoch 22/120: 100%|██████████| 148/148 [01:36<00:00,  1.53it/s, loss=2.2] \n"
     ]
    },
    {
     "name": "stdout",
     "output_type": "stream",
     "text": [
      "Epoch 22/120 - Train Loss: 2.3376, Val Loss: 1.3838, Val Accuracy: 0.8437, Val F1-Score: 0.8425\n"
     ]
    },
    {
     "name": "stderr",
     "output_type": "stream",
     "text": [
      "Epoch 23/120: 100%|██████████| 148/148 [01:37<00:00,  1.52it/s, loss=2.27]\n"
     ]
    },
    {
     "name": "stdout",
     "output_type": "stream",
     "text": [
      "Epoch 23/120 - Train Loss: 2.3153, Val Loss: 1.3768, Val Accuracy: 0.8461, Val F1-Score: 0.8451\n"
     ]
    },
    {
     "name": "stderr",
     "output_type": "stream",
     "text": [
      "Epoch 24/120: 100%|██████████| 148/148 [01:40<00:00,  1.48it/s, loss=2.3] \n"
     ]
    },
    {
     "name": "stdout",
     "output_type": "stream",
     "text": [
      "Epoch 24/120 - Train Loss: 2.3162, Val Loss: 1.3710, Val Accuracy: 0.8473, Val F1-Score: 0.8461\n"
     ]
    },
    {
     "name": "stderr",
     "output_type": "stream",
     "text": [
      "Epoch 25/120: 100%|██████████| 148/148 [01:41<00:00,  1.46it/s, loss=2.32]\n"
     ]
    },
    {
     "name": "stdout",
     "output_type": "stream",
     "text": [
      "Epoch 25/120 - Train Loss: 2.2978, Val Loss: 1.3689, Val Accuracy: 0.8481, Val F1-Score: 0.8476\n"
     ]
    },
    {
     "name": "stderr",
     "output_type": "stream",
     "text": [
      "Epoch 26/120: 100%|██████████| 148/148 [01:40<00:00,  1.47it/s, loss=2.16]\n"
     ]
    },
    {
     "name": "stdout",
     "output_type": "stream",
     "text": [
      "Epoch 26/120 - Train Loss: 2.2799, Val Loss: 1.3619, Val Accuracy: 0.8486, Val F1-Score: 0.8477\n"
     ]
    },
    {
     "name": "stderr",
     "output_type": "stream",
     "text": [
      "Epoch 27/120: 100%|██████████| 148/148 [01:41<00:00,  1.46it/s, loss=2.21]\n"
     ]
    },
    {
     "name": "stdout",
     "output_type": "stream",
     "text": [
      "Epoch 27/120 - Train Loss: 2.2796, Val Loss: 1.3579, Val Accuracy: 0.8488, Val F1-Score: 0.8478\n"
     ]
    },
    {
     "name": "stderr",
     "output_type": "stream",
     "text": [
      "Epoch 28/120: 100%|██████████| 148/148 [01:40<00:00,  1.47it/s, loss=2.24]\n"
     ]
    },
    {
     "name": "stdout",
     "output_type": "stream",
     "text": [
      "Epoch 28/120 - Train Loss: 2.2721, Val Loss: 1.3525, Val Accuracy: 0.8503, Val F1-Score: 0.8494\n"
     ]
    },
    {
     "name": "stderr",
     "output_type": "stream",
     "text": [
      "Epoch 29/120: 100%|██████████| 148/148 [01:41<00:00,  1.46it/s, loss=2.18]\n"
     ]
    },
    {
     "name": "stdout",
     "output_type": "stream",
     "text": [
      "Epoch 29/120 - Train Loss: 2.2577, Val Loss: 1.3521, Val Accuracy: 0.8520, Val F1-Score: 0.8512\n"
     ]
    },
    {
     "name": "stderr",
     "output_type": "stream",
     "text": [
      "Epoch 30/120: 100%|██████████| 148/148 [01:40<00:00,  1.47it/s, loss=2.41]\n"
     ]
    },
    {
     "name": "stdout",
     "output_type": "stream",
     "text": [
      "Epoch 30/120 - Train Loss: 2.2601, Val Loss: 1.3514, Val Accuracy: 0.8515, Val F1-Score: 0.8508\n"
     ]
    },
    {
     "name": "stderr",
     "output_type": "stream",
     "text": [
      "Epoch 31/120: 100%|██████████| 148/148 [01:36<00:00,  1.53it/s, loss=2.41]\n"
     ]
    },
    {
     "name": "stdout",
     "output_type": "stream",
     "text": [
      "Epoch 31/120 - Train Loss: 2.2601, Val Loss: 1.3514, Val Accuracy: 0.8515, Val F1-Score: 0.8508\n"
     ]
    },
    {
     "name": "stderr",
     "output_type": "stream",
     "text": [
      "Epoch 32/120: 100%|██████████| 148/148 [01:38<00:00,  1.50it/s, loss=2.31]\n"
     ]
    },
    {
     "name": "stdout",
     "output_type": "stream",
     "text": [
      "Epoch 32/120 - Train Loss: 2.2645, Val Loss: 1.3510, Val Accuracy: 0.8515, Val F1-Score: 0.8507\n"
     ]
    },
    {
     "name": "stderr",
     "output_type": "stream",
     "text": [
      "Epoch 33/120: 100%|██████████| 148/148 [01:41<00:00,  1.45it/s, loss=2.31]\n"
     ]
    },
    {
     "name": "stdout",
     "output_type": "stream",
     "text": [
      "Epoch 33/120 - Train Loss: 2.2540, Val Loss: 1.3515, Val Accuracy: 0.8514, Val F1-Score: 0.8507\n"
     ]
    },
    {
     "name": "stderr",
     "output_type": "stream",
     "text": [
      "Epoch 34/120: 100%|██████████| 148/148 [01:41<00:00,  1.46it/s, loss=2.22]\n"
     ]
    },
    {
     "name": "stdout",
     "output_type": "stream",
     "text": [
      "Epoch 34/120 - Train Loss: 2.2590, Val Loss: 1.3516, Val Accuracy: 0.8505, Val F1-Score: 0.8496\n"
     ]
    },
    {
     "name": "stderr",
     "output_type": "stream",
     "text": [
      "Epoch 35/120: 100%|██████████| 148/148 [02:05<00:00,  1.18it/s, loss=2.22]\n"
     ]
    },
    {
     "name": "stdout",
     "output_type": "stream",
     "text": [
      "Epoch 35/120 - Train Loss: 2.2576, Val Loss: 1.3511, Val Accuracy: 0.8516, Val F1-Score: 0.8509\n"
     ]
    },
    {
     "name": "stderr",
     "output_type": "stream",
     "text": [
      "Epoch 36/120: 100%|██████████| 148/148 [02:23<00:00,  1.03it/s, loss=2.15]\n"
     ]
    },
    {
     "name": "stdout",
     "output_type": "stream",
     "text": [
      "Epoch 36/120 - Train Loss: 2.2600, Val Loss: 1.3521, Val Accuracy: 0.8506, Val F1-Score: 0.8495\n"
     ]
    },
    {
     "name": "stderr",
     "output_type": "stream",
     "text": [
      "Epoch 37/120: 100%|██████████| 148/148 [01:44<00:00,  1.42it/s, loss=2.24]\n"
     ]
    },
    {
     "name": "stdout",
     "output_type": "stream",
     "text": [
      "Epoch 37/120 - Train Loss: 2.2749, Val Loss: 1.3539, Val Accuracy: 0.8478, Val F1-Score: 0.8471\n"
     ]
    },
    {
     "name": "stderr",
     "output_type": "stream",
     "text": [
      "Epoch 38/120: 100%|██████████| 148/148 [01:41<00:00,  1.46it/s, loss=2.28]\n"
     ]
    },
    {
     "name": "stdout",
     "output_type": "stream",
     "text": [
      "Epoch 38/120 - Train Loss: 2.2671, Val Loss: 1.3516, Val Accuracy: 0.8496, Val F1-Score: 0.8483\n"
     ]
    },
    {
     "name": "stderr",
     "output_type": "stream",
     "text": [
      "Epoch 39/120: 100%|██████████| 148/148 [01:35<00:00,  1.55it/s, loss=2.29]\n"
     ]
    },
    {
     "name": "stdout",
     "output_type": "stream",
     "text": [
      "Epoch 39/120 - Train Loss: 2.2834, Val Loss: 1.3541, Val Accuracy: 0.8502, Val F1-Score: 0.8492\n"
     ]
    },
    {
     "name": "stderr",
     "output_type": "stream",
     "text": [
      "Epoch 40/120: 100%|██████████| 148/148 [01:35<00:00,  1.56it/s, loss=2.3] \n"
     ]
    },
    {
     "name": "stdout",
     "output_type": "stream",
     "text": [
      "Epoch 40/120 - Train Loss: 2.2790, Val Loss: 1.3493, Val Accuracy: 0.8493, Val F1-Score: 0.8481\n"
     ]
    },
    {
     "name": "stderr",
     "output_type": "stream",
     "text": [
      "Epoch 41/120: 100%|██████████| 148/148 [01:36<00:00,  1.54it/s, loss=2.25]\n"
     ]
    },
    {
     "name": "stdout",
     "output_type": "stream",
     "text": [
      "Epoch 41/120 - Train Loss: 2.2761, Val Loss: 1.3511, Val Accuracy: 0.8516, Val F1-Score: 0.8512\n"
     ]
    },
    {
     "name": "stderr",
     "output_type": "stream",
     "text": [
      "Epoch 42/120: 100%|██████████| 148/148 [01:35<00:00,  1.55it/s, loss=2.35]\n"
     ]
    },
    {
     "name": "stdout",
     "output_type": "stream",
     "text": [
      "Epoch 42/120 - Train Loss: 2.2726, Val Loss: 1.3442, Val Accuracy: 0.8515, Val F1-Score: 0.8505\n"
     ]
    },
    {
     "name": "stderr",
     "output_type": "stream",
     "text": [
      "Epoch 43/120: 100%|██████████| 148/148 [01:35<00:00,  1.55it/s, loss=2.31]\n"
     ]
    },
    {
     "name": "stdout",
     "output_type": "stream",
     "text": [
      "Epoch 43/120 - Train Loss: 2.2651, Val Loss: 1.3458, Val Accuracy: 0.8521, Val F1-Score: 0.8511\n"
     ]
    },
    {
     "name": "stderr",
     "output_type": "stream",
     "text": [
      "Epoch 44/120: 100%|██████████| 148/148 [01:35<00:00,  1.56it/s, loss=2.3] \n"
     ]
    },
    {
     "name": "stdout",
     "output_type": "stream",
     "text": [
      "Epoch 44/120 - Train Loss: 2.2608, Val Loss: 1.3395, Val Accuracy: 0.8541, Val F1-Score: 0.8534\n"
     ]
    },
    {
     "name": "stderr",
     "output_type": "stream",
     "text": [
      "Epoch 45/120: 100%|██████████| 148/148 [01:34<00:00,  1.56it/s, loss=2.24]\n"
     ]
    },
    {
     "name": "stdout",
     "output_type": "stream",
     "text": [
      "Epoch 45/120 - Train Loss: 2.2576, Val Loss: 1.3366, Val Accuracy: 0.8555, Val F1-Score: 0.8554\n"
     ]
    },
    {
     "name": "stderr",
     "output_type": "stream",
     "text": [
      "Epoch 46/120: 100%|██████████| 148/148 [01:34<00:00,  1.56it/s, loss=2.22]\n"
     ]
    },
    {
     "name": "stdout",
     "output_type": "stream",
     "text": [
      "Epoch 46/120 - Train Loss: 2.2418, Val Loss: 1.3332, Val Accuracy: 0.8537, Val F1-Score: 0.8531\n"
     ]
    },
    {
     "name": "stderr",
     "output_type": "stream",
     "text": [
      "Epoch 47/120: 100%|██████████| 148/148 [01:35<00:00,  1.55it/s, loss=2.17]\n"
     ]
    },
    {
     "name": "stdout",
     "output_type": "stream",
     "text": [
      "Epoch 47/120 - Train Loss: 2.2362, Val Loss: 1.3267, Val Accuracy: 0.8558, Val F1-Score: 0.8551\n"
     ]
    },
    {
     "name": "stderr",
     "output_type": "stream",
     "text": [
      "Epoch 48/120: 100%|██████████| 148/148 [01:34<00:00,  1.56it/s, loss=2.25]\n"
     ]
    },
    {
     "name": "stdout",
     "output_type": "stream",
     "text": [
      "Epoch 48/120 - Train Loss: 2.2175, Val Loss: 1.3273, Val Accuracy: 0.8547, Val F1-Score: 0.8540\n"
     ]
    },
    {
     "name": "stderr",
     "output_type": "stream",
     "text": [
      "Epoch 49/120: 100%|██████████| 148/148 [01:34<00:00,  1.56it/s, loss=2.09]\n"
     ]
    },
    {
     "name": "stdout",
     "output_type": "stream",
     "text": [
      "Epoch 49/120 - Train Loss: 2.2159, Val Loss: 1.3251, Val Accuracy: 0.8553, Val F1-Score: 0.8546\n"
     ]
    },
    {
     "name": "stderr",
     "output_type": "stream",
     "text": [
      "Epoch 50/120: 100%|██████████| 148/148 [01:36<00:00,  1.54it/s, loss=2.21]\n"
     ]
    },
    {
     "name": "stdout",
     "output_type": "stream",
     "text": [
      "Epoch 50/120 - Train Loss: 2.2148, Val Loss: 1.3247, Val Accuracy: 0.8555, Val F1-Score: 0.8548\n"
     ]
    },
    {
     "name": "stderr",
     "output_type": "stream",
     "text": [
      "Epoch 51/120: 100%|██████████| 148/148 [01:35<00:00,  1.54it/s, loss=2.2] \n"
     ]
    },
    {
     "name": "stdout",
     "output_type": "stream",
     "text": [
      "Epoch 51/120 - Train Loss: 2.2050, Val Loss: 1.3247, Val Accuracy: 0.8555, Val F1-Score: 0.8548\n"
     ]
    },
    {
     "name": "stderr",
     "output_type": "stream",
     "text": [
      "Epoch 52/120: 100%|██████████| 148/148 [01:36<00:00,  1.53it/s, loss=2.33]\n"
     ]
    },
    {
     "name": "stdout",
     "output_type": "stream",
     "text": [
      "Epoch 52/120 - Train Loss: 2.2101, Val Loss: 1.3242, Val Accuracy: 0.8558, Val F1-Score: 0.8552\n"
     ]
    },
    {
     "name": "stderr",
     "output_type": "stream",
     "text": [
      "Epoch 53/120: 100%|██████████| 148/148 [01:33<00:00,  1.58it/s, loss=2.08]\n"
     ]
    },
    {
     "name": "stdout",
     "output_type": "stream",
     "text": [
      "Epoch 53/120 - Train Loss: 2.2135, Val Loss: 1.3240, Val Accuracy: 0.8550, Val F1-Score: 0.8544\n"
     ]
    },
    {
     "name": "stderr",
     "output_type": "stream",
     "text": [
      "Epoch 54/120: 100%|██████████| 148/148 [01:35<00:00,  1.55it/s, loss=2.05]\n"
     ]
    },
    {
     "name": "stdout",
     "output_type": "stream",
     "text": [
      "Epoch 54/120 - Train Loss: 2.2165, Val Loss: 1.3236, Val Accuracy: 0.8558, Val F1-Score: 0.8552\n"
     ]
    },
    {
     "name": "stderr",
     "output_type": "stream",
     "text": [
      "Epoch 55/120: 100%|██████████| 148/148 [01:35<00:00,  1.56it/s, loss=2.27]\n"
     ]
    },
    {
     "name": "stdout",
     "output_type": "stream",
     "text": [
      "Epoch 55/120 - Train Loss: 2.2204, Val Loss: 1.3229, Val Accuracy: 0.8558, Val F1-Score: 0.8552\n"
     ]
    },
    {
     "name": "stderr",
     "output_type": "stream",
     "text": [
      "Epoch 56/120: 100%|██████████| 148/148 [01:35<00:00,  1.55it/s, loss=2.14]\n"
     ]
    },
    {
     "name": "stdout",
     "output_type": "stream",
     "text": [
      "Epoch 56/120 - Train Loss: 2.2206, Val Loss: 1.3251, Val Accuracy: 0.8560, Val F1-Score: 0.8551\n"
     ]
    },
    {
     "name": "stderr",
     "output_type": "stream",
     "text": [
      "Epoch 57/120: 100%|██████████| 148/148 [01:34<00:00,  1.56it/s, loss=2.19]\n"
     ]
    },
    {
     "name": "stdout",
     "output_type": "stream",
     "text": [
      "Epoch 57/120 - Train Loss: 2.2282, Val Loss: 1.3268, Val Accuracy: 0.8544, Val F1-Score: 0.8536\n"
     ]
    },
    {
     "name": "stderr",
     "output_type": "stream",
     "text": [
      "Epoch 58/120: 100%|██████████| 148/148 [01:35<00:00,  1.56it/s, loss=2.25]\n"
     ]
    },
    {
     "name": "stdout",
     "output_type": "stream",
     "text": [
      "Epoch 58/120 - Train Loss: 2.2359, Val Loss: 1.3259, Val Accuracy: 0.8551, Val F1-Score: 0.8545\n"
     ]
    },
    {
     "name": "stderr",
     "output_type": "stream",
     "text": [
      "Epoch 59/120: 100%|██████████| 148/148 [01:34<00:00,  1.56it/s, loss=2.23]\n"
     ]
    },
    {
     "name": "stdout",
     "output_type": "stream",
     "text": [
      "Epoch 59/120 - Train Loss: 2.2345, Val Loss: 1.3289, Val Accuracy: 0.8558, Val F1-Score: 0.8552\n"
     ]
    },
    {
     "name": "stderr",
     "output_type": "stream",
     "text": [
      "Epoch 60/120: 100%|██████████| 148/148 [01:35<00:00,  1.56it/s, loss=2.26]\n"
     ]
    },
    {
     "name": "stdout",
     "output_type": "stream",
     "text": [
      "Epoch 60/120 - Train Loss: 2.2482, Val Loss: 1.3321, Val Accuracy: 0.8544, Val F1-Score: 0.8536\n"
     ]
    },
    {
     "name": "stderr",
     "output_type": "stream",
     "text": [
      "Epoch 61/120: 100%|██████████| 148/148 [01:35<00:00,  1.55it/s, loss=2.28]\n"
     ]
    },
    {
     "name": "stdout",
     "output_type": "stream",
     "text": [
      "Epoch 61/120 - Train Loss: 2.2475, Val Loss: 1.3277, Val Accuracy: 0.8547, Val F1-Score: 0.8537\n"
     ]
    },
    {
     "name": "stderr",
     "output_type": "stream",
     "text": [
      "Epoch 62/120: 100%|██████████| 148/148 [01:35<00:00,  1.55it/s, loss=2.27]\n"
     ]
    },
    {
     "name": "stdout",
     "output_type": "stream",
     "text": [
      "Epoch 62/120 - Train Loss: 2.2397, Val Loss: 1.3276, Val Accuracy: 0.8564, Val F1-Score: 0.8555\n"
     ]
    },
    {
     "name": "stderr",
     "output_type": "stream",
     "text": [
      "Epoch 63/120: 100%|██████████| 148/148 [01:35<00:00,  1.55it/s, loss=2.22]\n"
     ]
    },
    {
     "name": "stdout",
     "output_type": "stream",
     "text": [
      "Epoch 63/120 - Train Loss: 2.2358, Val Loss: 1.3284, Val Accuracy: 0.8554, Val F1-Score: 0.8547\n"
     ]
    },
    {
     "name": "stderr",
     "output_type": "stream",
     "text": [
      "Epoch 64/120: 100%|██████████| 148/148 [01:35<00:00,  1.55it/s, loss=2.16]\n"
     ]
    },
    {
     "name": "stdout",
     "output_type": "stream",
     "text": [
      "Epoch 64/120 - Train Loss: 2.2268, Val Loss: 1.3199, Val Accuracy: 0.8564, Val F1-Score: 0.8557\n"
     ]
    },
    {
     "name": "stderr",
     "output_type": "stream",
     "text": [
      "Epoch 65/120: 100%|██████████| 148/148 [01:35<00:00,  1.55it/s, loss=2.24]\n"
     ]
    },
    {
     "name": "stdout",
     "output_type": "stream",
     "text": [
      "Epoch 65/120 - Train Loss: 2.2215, Val Loss: 1.3210, Val Accuracy: 0.8572, Val F1-Score: 0.8566\n"
     ]
    },
    {
     "name": "stderr",
     "output_type": "stream",
     "text": [
      "Epoch 66/120: 100%|██████████| 148/148 [01:35<00:00,  1.55it/s, loss=2.18]\n"
     ]
    },
    {
     "name": "stdout",
     "output_type": "stream",
     "text": [
      "Epoch 66/120 - Train Loss: 2.2134, Val Loss: 1.3143, Val Accuracy: 0.8583, Val F1-Score: 0.8577\n"
     ]
    },
    {
     "name": "stderr",
     "output_type": "stream",
     "text": [
      "Epoch 67/120: 100%|██████████| 148/148 [01:36<00:00,  1.54it/s, loss=2.22]\n"
     ]
    },
    {
     "name": "stdout",
     "output_type": "stream",
     "text": [
      "Epoch 67/120 - Train Loss: 2.1990, Val Loss: 1.3129, Val Accuracy: 0.8584, Val F1-Score: 0.8577\n"
     ]
    },
    {
     "name": "stderr",
     "output_type": "stream",
     "text": [
      "Epoch 68/120: 100%|██████████| 148/148 [01:35<00:00,  1.54it/s, loss=2.13]\n"
     ]
    },
    {
     "name": "stdout",
     "output_type": "stream",
     "text": [
      "Epoch 68/120 - Train Loss: 2.1974, Val Loss: 1.3097, Val Accuracy: 0.8582, Val F1-Score: 0.8577\n"
     ]
    },
    {
     "name": "stderr",
     "output_type": "stream",
     "text": [
      "Epoch 69/120: 100%|██████████| 148/148 [01:34<00:00,  1.56it/s, loss=2.16]\n"
     ]
    },
    {
     "name": "stdout",
     "output_type": "stream",
     "text": [
      "Epoch 69/120 - Train Loss: 2.1872, Val Loss: 1.3084, Val Accuracy: 0.8581, Val F1-Score: 0.8573\n"
     ]
    },
    {
     "name": "stderr",
     "output_type": "stream",
     "text": [
      "Epoch 70/120: 100%|██████████| 148/148 [01:35<00:00,  1.55it/s, loss=2.13]\n"
     ]
    },
    {
     "name": "stdout",
     "output_type": "stream",
     "text": [
      "Epoch 70/120 - Train Loss: 2.1924, Val Loss: 1.3081, Val Accuracy: 0.8584, Val F1-Score: 0.8577\n"
     ]
    },
    {
     "name": "stderr",
     "output_type": "stream",
     "text": [
      "Epoch 71/120: 100%|██████████| 148/148 [01:35<00:00,  1.55it/s, loss=2.05]\n"
     ]
    },
    {
     "name": "stdout",
     "output_type": "stream",
     "text": [
      "Epoch 71/120 - Train Loss: 2.1819, Val Loss: 1.3081, Val Accuracy: 0.8584, Val F1-Score: 0.8577\n"
     ]
    },
    {
     "name": "stderr",
     "output_type": "stream",
     "text": [
      "Epoch 72/120: 100%|██████████| 148/148 [01:35<00:00,  1.56it/s, loss=2.15]\n"
     ]
    },
    {
     "name": "stdout",
     "output_type": "stream",
     "text": [
      "Epoch 72/120 - Train Loss: 2.1874, Val Loss: 1.3078, Val Accuracy: 0.8588, Val F1-Score: 0.8582\n"
     ]
    },
    {
     "name": "stderr",
     "output_type": "stream",
     "text": [
      "Epoch 73/120: 100%|██████████| 148/148 [01:35<00:00,  1.56it/s, loss=2.24]\n"
     ]
    },
    {
     "name": "stdout",
     "output_type": "stream",
     "text": [
      "Epoch 73/120 - Train Loss: 2.1861, Val Loss: 1.3069, Val Accuracy: 0.8587, Val F1-Score: 0.8581\n"
     ]
    },
    {
     "name": "stderr",
     "output_type": "stream",
     "text": [
      "Epoch 74/120: 100%|██████████| 148/148 [01:35<00:00,  1.54it/s, loss=2.16]\n"
     ]
    },
    {
     "name": "stdout",
     "output_type": "stream",
     "text": [
      "Epoch 74/120 - Train Loss: 2.1902, Val Loss: 1.3088, Val Accuracy: 0.8575, Val F1-Score: 0.8568\n"
     ]
    },
    {
     "name": "stderr",
     "output_type": "stream",
     "text": [
      "Epoch 75/120: 100%|██████████| 148/148 [01:35<00:00,  1.56it/s, loss=2.22]\n"
     ]
    },
    {
     "name": "stdout",
     "output_type": "stream",
     "text": [
      "Epoch 75/120 - Train Loss: 2.1891, Val Loss: 1.3077, Val Accuracy: 0.8578, Val F1-Score: 0.8572\n"
     ]
    },
    {
     "name": "stderr",
     "output_type": "stream",
     "text": [
      "Epoch 76/120: 100%|██████████| 148/148 [01:36<00:00,  1.53it/s, loss=2.12]\n"
     ]
    },
    {
     "name": "stdout",
     "output_type": "stream",
     "text": [
      "Epoch 76/120 - Train Loss: 2.1924, Val Loss: 1.3093, Val Accuracy: 0.8580, Val F1-Score: 0.8573\n"
     ]
    },
    {
     "name": "stderr",
     "output_type": "stream",
     "text": [
      "Epoch 77/120: 100%|██████████| 148/148 [01:35<00:00,  1.56it/s, loss=2.19]\n"
     ]
    },
    {
     "name": "stdout",
     "output_type": "stream",
     "text": [
      "Epoch 77/120 - Train Loss: 2.2104, Val Loss: 1.3113, Val Accuracy: 0.8586, Val F1-Score: 0.8581\n"
     ]
    },
    {
     "name": "stderr",
     "output_type": "stream",
     "text": [
      "Epoch 78/120: 100%|██████████| 148/148 [01:34<00:00,  1.57it/s, loss=2.13]\n"
     ]
    },
    {
     "name": "stdout",
     "output_type": "stream",
     "text": [
      "Epoch 78/120 - Train Loss: 2.2152, Val Loss: 1.3115, Val Accuracy: 0.8574, Val F1-Score: 0.8567\n"
     ]
    },
    {
     "name": "stderr",
     "output_type": "stream",
     "text": [
      "Epoch 79/120: 100%|██████████| 148/148 [01:34<00:00,  1.56it/s, loss=2.25]\n"
     ]
    },
    {
     "name": "stdout",
     "output_type": "stream",
     "text": [
      "Epoch 79/120 - Train Loss: 2.2191, Val Loss: 1.3171, Val Accuracy: 0.8542, Val F1-Score: 0.8531\n"
     ]
    },
    {
     "name": "stderr",
     "output_type": "stream",
     "text": [
      "Epoch 80/120: 100%|██████████| 148/148 [01:34<00:00,  1.56it/s, loss=2.25]\n"
     ]
    },
    {
     "name": "stdout",
     "output_type": "stream",
     "text": [
      "Epoch 80/120 - Train Loss: 2.2168, Val Loss: 1.3158, Val Accuracy: 0.8557, Val F1-Score: 0.8550\n"
     ]
    },
    {
     "name": "stderr",
     "output_type": "stream",
     "text": [
      "Epoch 81/120: 100%|██████████| 148/148 [01:35<00:00,  1.55it/s, loss=2.28]\n"
     ]
    },
    {
     "name": "stdout",
     "output_type": "stream",
     "text": [
      "Epoch 81/120 - Train Loss: 2.2193, Val Loss: 1.3153, Val Accuracy: 0.8552, Val F1-Score: 0.8548\n"
     ]
    },
    {
     "name": "stderr",
     "output_type": "stream",
     "text": [
      "Epoch 82/120: 100%|██████████| 148/148 [01:44<00:00,  1.41it/s, loss=2.21]\n"
     ]
    },
    {
     "name": "stdout",
     "output_type": "stream",
     "text": [
      "Epoch 82/120 - Train Loss: 2.2170, Val Loss: 1.3110, Val Accuracy: 0.8579, Val F1-Score: 0.8574\n"
     ]
    },
    {
     "name": "stderr",
     "output_type": "stream",
     "text": [
      "Epoch 83/120: 100%|██████████| 148/148 [01:34<00:00,  1.57it/s, loss=2.12]\n"
     ]
    },
    {
     "name": "stdout",
     "output_type": "stream",
     "text": [
      "Epoch 83/120 - Train Loss: 2.2159, Val Loss: 1.3149, Val Accuracy: 0.8570, Val F1-Score: 0.8563\n"
     ]
    },
    {
     "name": "stderr",
     "output_type": "stream",
     "text": [
      "Epoch 84/120: 100%|██████████| 148/148 [01:34<00:00,  1.56it/s, loss=2.26]\n"
     ]
    },
    {
     "name": "stdout",
     "output_type": "stream",
     "text": [
      "Epoch 84/120 - Train Loss: 2.2142, Val Loss: 1.3088, Val Accuracy: 0.8586, Val F1-Score: 0.8581\n"
     ]
    },
    {
     "name": "stderr",
     "output_type": "stream",
     "text": [
      "Epoch 85/120: 100%|██████████| 148/148 [01:33<00:00,  1.57it/s, loss=2.2] \n"
     ]
    },
    {
     "name": "stdout",
     "output_type": "stream",
     "text": [
      "Epoch 85/120 - Train Loss: 2.1991, Val Loss: 1.3086, Val Accuracy: 0.8572, Val F1-Score: 0.8564\n"
     ]
    },
    {
     "name": "stderr",
     "output_type": "stream",
     "text": [
      "Epoch 86/120: 100%|██████████| 148/148 [01:34<00:00,  1.56it/s, loss=2.21]\n"
     ]
    },
    {
     "name": "stdout",
     "output_type": "stream",
     "text": [
      "Epoch 86/120 - Train Loss: 2.1881, Val Loss: 1.3052, Val Accuracy: 0.8572, Val F1-Score: 0.8568\n"
     ]
    },
    {
     "name": "stderr",
     "output_type": "stream",
     "text": [
      "Epoch 87/120: 100%|██████████| 148/148 [01:34<00:00,  1.56it/s, loss=2.15]\n"
     ]
    },
    {
     "name": "stdout",
     "output_type": "stream",
     "text": [
      "Epoch 87/120 - Train Loss: 2.1859, Val Loss: 1.2997, Val Accuracy: 0.8584, Val F1-Score: 0.8575\n"
     ]
    },
    {
     "name": "stderr",
     "output_type": "stream",
     "text": [
      "Epoch 88/120: 100%|██████████| 148/148 [01:34<00:00,  1.56it/s, loss=2.18]\n"
     ]
    },
    {
     "name": "stdout",
     "output_type": "stream",
     "text": [
      "Epoch 88/120 - Train Loss: 2.1762, Val Loss: 1.2973, Val Accuracy: 0.8602, Val F1-Score: 0.8595\n"
     ]
    },
    {
     "name": "stderr",
     "output_type": "stream",
     "text": [
      "Epoch 89/120: 100%|██████████| 148/148 [01:34<00:00,  1.56it/s, loss=2.19]\n"
     ]
    },
    {
     "name": "stdout",
     "output_type": "stream",
     "text": [
      "Epoch 89/120 - Train Loss: 2.1733, Val Loss: 1.2962, Val Accuracy: 0.8602, Val F1-Score: 0.8596\n"
     ]
    },
    {
     "name": "stderr",
     "output_type": "stream",
     "text": [
      "Epoch 90/120: 100%|██████████| 148/148 [01:34<00:00,  1.57it/s, loss=2.17]\n"
     ]
    },
    {
     "name": "stdout",
     "output_type": "stream",
     "text": [
      "Epoch 90/120 - Train Loss: 2.1657, Val Loss: 1.2960, Val Accuracy: 0.8603, Val F1-Score: 0.8596\n"
     ]
    },
    {
     "name": "stderr",
     "output_type": "stream",
     "text": [
      "Epoch 91/120: 100%|██████████| 148/148 [01:34<00:00,  1.57it/s, loss=2.16]\n"
     ]
    },
    {
     "name": "stdout",
     "output_type": "stream",
     "text": [
      "Epoch 91/120 - Train Loss: 2.1704, Val Loss: 1.2960, Val Accuracy: 0.8603, Val F1-Score: 0.8596\n"
     ]
    },
    {
     "name": "stderr",
     "output_type": "stream",
     "text": [
      "Epoch 92/120: 100%|██████████| 148/148 [01:33<00:00,  1.58it/s, loss=2.18]\n"
     ]
    },
    {
     "name": "stdout",
     "output_type": "stream",
     "text": [
      "Epoch 92/120 - Train Loss: 2.1715, Val Loss: 1.2956, Val Accuracy: 0.8600, Val F1-Score: 0.8594\n"
     ]
    },
    {
     "name": "stderr",
     "output_type": "stream",
     "text": [
      "Epoch 93/120: 100%|██████████| 148/148 [01:34<00:00,  1.56it/s, loss=2.17]\n"
     ]
    },
    {
     "name": "stdout",
     "output_type": "stream",
     "text": [
      "Epoch 93/120 - Train Loss: 2.1670, Val Loss: 1.2953, Val Accuracy: 0.8602, Val F1-Score: 0.8595\n"
     ]
    },
    {
     "name": "stderr",
     "output_type": "stream",
     "text": [
      "Epoch 94/120: 100%|██████████| 148/148 [01:36<00:00,  1.54it/s, loss=2.24]\n"
     ]
    },
    {
     "name": "stdout",
     "output_type": "stream",
     "text": [
      "Epoch 94/120 - Train Loss: 2.1677, Val Loss: 1.2963, Val Accuracy: 0.8591, Val F1-Score: 0.8583\n"
     ]
    },
    {
     "name": "stderr",
     "output_type": "stream",
     "text": [
      "Epoch 95/120: 100%|██████████| 148/148 [01:36<00:00,  1.53it/s, loss=2.28]\n"
     ]
    },
    {
     "name": "stdout",
     "output_type": "stream",
     "text": [
      "Epoch 95/120 - Train Loss: 2.1779, Val Loss: 1.2973, Val Accuracy: 0.8600, Val F1-Score: 0.8594\n"
     ]
    },
    {
     "name": "stderr",
     "output_type": "stream",
     "text": [
      "Epoch 96/120: 100%|██████████| 148/148 [01:34<00:00,  1.56it/s, loss=2.23]\n"
     ]
    },
    {
     "name": "stdout",
     "output_type": "stream",
     "text": [
      "Epoch 96/120 - Train Loss: 2.1821, Val Loss: 1.2979, Val Accuracy: 0.8608, Val F1-Score: 0.8603\n"
     ]
    },
    {
     "name": "stderr",
     "output_type": "stream",
     "text": [
      "Epoch 97/120: 100%|██████████| 148/148 [01:34<00:00,  1.57it/s, loss=2.27]\n"
     ]
    },
    {
     "name": "stdout",
     "output_type": "stream",
     "text": [
      "Epoch 97/120 - Train Loss: 2.1845, Val Loss: 1.3011, Val Accuracy: 0.8576, Val F1-Score: 0.8569\n"
     ]
    },
    {
     "name": "stderr",
     "output_type": "stream",
     "text": [
      "Epoch 98/120: 100%|██████████| 148/148 [01:34<00:00,  1.57it/s, loss=2.34]\n"
     ]
    },
    {
     "name": "stdout",
     "output_type": "stream",
     "text": [
      "Epoch 98/120 - Train Loss: 2.1827, Val Loss: 1.3013, Val Accuracy: 0.8592, Val F1-Score: 0.8587\n"
     ]
    },
    {
     "name": "stderr",
     "output_type": "stream",
     "text": [
      "Epoch 99/120: 100%|██████████| 148/148 [01:35<00:00,  1.56it/s, loss=2.21]\n"
     ]
    },
    {
     "name": "stdout",
     "output_type": "stream",
     "text": [
      "Epoch 99/120 - Train Loss: 2.1981, Val Loss: 1.3036, Val Accuracy: 0.8586, Val F1-Score: 0.8581\n"
     ]
    },
    {
     "name": "stderr",
     "output_type": "stream",
     "text": [
      "Epoch 100/120: 100%|██████████| 148/148 [01:34<00:00,  1.56it/s, loss=2.22]\n"
     ]
    },
    {
     "name": "stdout",
     "output_type": "stream",
     "text": [
      "Epoch 100/120 - Train Loss: 2.2035, Val Loss: 1.3032, Val Accuracy: 0.8591, Val F1-Score: 0.8586\n"
     ]
    },
    {
     "name": "stderr",
     "output_type": "stream",
     "text": [
      "Epoch 101/120: 100%|██████████| 148/148 [01:35<00:00,  1.55it/s, loss=2.32]\n"
     ]
    },
    {
     "name": "stdout",
     "output_type": "stream",
     "text": [
      "Epoch 101/120 - Train Loss: 2.2065, Val Loss: 1.3091, Val Accuracy: 0.8543, Val F1-Score: 0.8535\n"
     ]
    },
    {
     "name": "stderr",
     "output_type": "stream",
     "text": [
      "Epoch 102/120: 100%|██████████| 148/148 [01:34<00:00,  1.56it/s, loss=2.27]\n"
     ]
    },
    {
     "name": "stdout",
     "output_type": "stream",
     "text": [
      "Epoch 102/120 - Train Loss: 2.2007, Val Loss: 1.3063, Val Accuracy: 0.8562, Val F1-Score: 0.8556\n"
     ]
    },
    {
     "name": "stderr",
     "output_type": "stream",
     "text": [
      "Epoch 103/120: 100%|██████████| 148/148 [01:34<00:00,  1.56it/s, loss=2.32]\n"
     ]
    },
    {
     "name": "stdout",
     "output_type": "stream",
     "text": [
      "Epoch 103/120 - Train Loss: 2.1945, Val Loss: 1.3033, Val Accuracy: 0.8578, Val F1-Score: 0.8573\n"
     ]
    },
    {
     "name": "stderr",
     "output_type": "stream",
     "text": [
      "Epoch 104/120: 100%|██████████| 148/148 [01:34<00:00,  1.57it/s, loss=2.27]\n"
     ]
    },
    {
     "name": "stdout",
     "output_type": "stream",
     "text": [
      "Epoch 104/120 - Train Loss: 2.1930, Val Loss: 1.2994, Val Accuracy: 0.8579, Val F1-Score: 0.8574\n"
     ]
    },
    {
     "name": "stderr",
     "output_type": "stream",
     "text": [
      "Epoch 105/120: 100%|██████████| 148/148 [01:34<00:00,  1.57it/s, loss=2.23]\n"
     ]
    },
    {
     "name": "stdout",
     "output_type": "stream",
     "text": [
      "Epoch 105/120 - Train Loss: 2.1925, Val Loss: 1.2965, Val Accuracy: 0.8579, Val F1-Score: 0.8574\n"
     ]
    },
    {
     "name": "stderr",
     "output_type": "stream",
     "text": [
      "Epoch 106/120: 100%|██████████| 148/148 [01:34<00:00,  1.56it/s, loss=2.16]\n"
     ]
    },
    {
     "name": "stdout",
     "output_type": "stream",
     "text": [
      "Epoch 106/120 - Train Loss: 2.1735, Val Loss: 1.2926, Val Accuracy: 0.8591, Val F1-Score: 0.8585\n"
     ]
    },
    {
     "name": "stderr",
     "output_type": "stream",
     "text": [
      "Epoch 107/120: 100%|██████████| 148/148 [01:35<00:00,  1.55it/s, loss=2.24]\n"
     ]
    },
    {
     "name": "stdout",
     "output_type": "stream",
     "text": [
      "Epoch 107/120 - Train Loss: 2.1704, Val Loss: 1.2910, Val Accuracy: 0.8590, Val F1-Score: 0.8583\n"
     ]
    },
    {
     "name": "stderr",
     "output_type": "stream",
     "text": [
      "Epoch 108/120: 100%|██████████| 148/148 [01:34<00:00,  1.57it/s, loss=2.16]\n"
     ]
    },
    {
     "name": "stdout",
     "output_type": "stream",
     "text": [
      "Epoch 108/120 - Train Loss: 2.1612, Val Loss: 1.2883, Val Accuracy: 0.8599, Val F1-Score: 0.8593\n"
     ]
    },
    {
     "name": "stderr",
     "output_type": "stream",
     "text": [
      "Epoch 109/120: 100%|██████████| 148/148 [01:34<00:00,  1.56it/s, loss=2.21]\n"
     ]
    },
    {
     "name": "stdout",
     "output_type": "stream",
     "text": [
      "Epoch 109/120 - Train Loss: 2.1543, Val Loss: 1.2869, Val Accuracy: 0.8596, Val F1-Score: 0.8589\n"
     ]
    },
    {
     "name": "stderr",
     "output_type": "stream",
     "text": [
      "Epoch 110/120: 100%|██████████| 148/148 [01:35<00:00,  1.55it/s, loss=2.13]\n"
     ]
    },
    {
     "name": "stdout",
     "output_type": "stream",
     "text": [
      "Epoch 110/120 - Train Loss: 2.1498, Val Loss: 1.2863, Val Accuracy: 0.8602, Val F1-Score: 0.8596\n"
     ]
    },
    {
     "name": "stderr",
     "output_type": "stream",
     "text": [
      "Epoch 111/120: 100%|██████████| 148/148 [01:34<00:00,  1.57it/s, loss=2.14]\n"
     ]
    },
    {
     "name": "stdout",
     "output_type": "stream",
     "text": [
      "Epoch 111/120 - Train Loss: 2.1471, Val Loss: 1.2863, Val Accuracy: 0.8602, Val F1-Score: 0.8596\n"
     ]
    },
    {
     "name": "stderr",
     "output_type": "stream",
     "text": [
      "Epoch 112/120: 100%|██████████| 148/148 [01:34<00:00,  1.57it/s, loss=2.08]\n"
     ]
    },
    {
     "name": "stdout",
     "output_type": "stream",
     "text": [
      "Epoch 112/120 - Train Loss: 2.1538, Val Loss: 1.2863, Val Accuracy: 0.8601, Val F1-Score: 0.8594\n"
     ]
    },
    {
     "name": "stderr",
     "output_type": "stream",
     "text": [
      "Epoch 113/120: 100%|██████████| 148/148 [01:34<00:00,  1.57it/s, loss=2.08]\n"
     ]
    },
    {
     "name": "stdout",
     "output_type": "stream",
     "text": [
      "Epoch 113/120 - Train Loss: 2.1558, Val Loss: 1.2858, Val Accuracy: 0.8601, Val F1-Score: 0.8595\n"
     ]
    },
    {
     "name": "stderr",
     "output_type": "stream",
     "text": [
      "Epoch 114/120: 100%|██████████| 148/148 [01:34<00:00,  1.56it/s, loss=2.28]\n"
     ]
    },
    {
     "name": "stdout",
     "output_type": "stream",
     "text": [
      "Epoch 114/120 - Train Loss: 2.1577, Val Loss: 1.2863, Val Accuracy: 0.8607, Val F1-Score: 0.8601\n"
     ]
    },
    {
     "name": "stderr",
     "output_type": "stream",
     "text": [
      "Epoch 115/120: 100%|██████████| 148/148 [01:34<00:00,  1.57it/s, loss=2.21]\n"
     ]
    },
    {
     "name": "stdout",
     "output_type": "stream",
     "text": [
      "Epoch 115/120 - Train Loss: 2.1570, Val Loss: 1.2881, Val Accuracy: 0.8603, Val F1-Score: 0.8597\n"
     ]
    },
    {
     "name": "stderr",
     "output_type": "stream",
     "text": [
      "Epoch 116/120: 100%|██████████| 148/148 [01:34<00:00,  1.56it/s, loss=2.11]\n"
     ]
    },
    {
     "name": "stdout",
     "output_type": "stream",
     "text": [
      "Epoch 116/120 - Train Loss: 2.1661, Val Loss: 1.2892, Val Accuracy: 0.8607, Val F1-Score: 0.8600\n"
     ]
    },
    {
     "name": "stderr",
     "output_type": "stream",
     "text": [
      "Epoch 117/120: 100%|██████████| 148/148 [01:35<00:00,  1.55it/s, loss=2.16]\n"
     ]
    },
    {
     "name": "stdout",
     "output_type": "stream",
     "text": [
      "Epoch 117/120 - Train Loss: 2.1753, Val Loss: 1.2912, Val Accuracy: 0.8602, Val F1-Score: 0.8595\n"
     ]
    },
    {
     "name": "stderr",
     "output_type": "stream",
     "text": [
      "Epoch 118/120: 100%|██████████| 148/148 [01:35<00:00,  1.55it/s, loss=2.14]\n"
     ]
    },
    {
     "name": "stdout",
     "output_type": "stream",
     "text": [
      "Epoch 118/120 - Train Loss: 2.1764, Val Loss: 1.2975, Val Accuracy: 0.8567, Val F1-Score: 0.8557\n"
     ]
    },
    {
     "name": "stderr",
     "output_type": "stream",
     "text": [
      "Epoch 119/120: 100%|██████████| 148/148 [01:34<00:00,  1.56it/s, loss=2.18]\n"
     ]
    },
    {
     "name": "stdout",
     "output_type": "stream",
     "text": [
      "Epoch 119/120 - Train Loss: 2.1894, Val Loss: 1.2962, Val Accuracy: 0.8592, Val F1-Score: 0.8586\n"
     ]
    },
    {
     "name": "stderr",
     "output_type": "stream",
     "text": [
      "Epoch 120/120: 100%|██████████| 148/148 [01:34<00:00,  1.57it/s, loss=2.13]\n"
     ]
    },
    {
     "name": "stdout",
     "output_type": "stream",
     "text": [
      "Epoch 120/120 - Train Loss: 2.1893, Val Loss: 1.2967, Val Accuracy: 0.8589, Val F1-Score: 0.8587\n"
     ]
    }
   ],
   "execution_count": 16
  },
  {
   "metadata": {
    "ExecuteTime": {
     "end_time": "2024-06-08T02:59:06.011317Z",
     "start_time": "2024-06-08T02:59:05.981317Z"
    }
   },
   "cell_type": "code",
   "source": "",
   "id": "7be9815a51e3efa7",
   "outputs": [],
   "execution_count": 16
  }
 ],
 "metadata": {
  "kernelspec": {
   "display_name": "Python 3",
   "language": "python",
   "name": "python3"
  },
  "language_info": {
   "codemirror_mode": {
    "name": "ipython",
    "version": 2
   },
   "file_extension": ".py",
   "mimetype": "text/x-python",
   "name": "python",
   "nbconvert_exporter": "python",
   "pygments_lexer": "ipython2",
   "version": "2.7.6"
  }
 },
 "nbformat": 4,
 "nbformat_minor": 5
}
