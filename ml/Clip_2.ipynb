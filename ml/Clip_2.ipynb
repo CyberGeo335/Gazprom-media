{
 "cells": [
  {
   "cell_type": "code",
   "id": "initial_id",
   "metadata": {
    "collapsed": true,
    "ExecuteTime": {
     "end_time": "2024-06-07T14:31:47.123586Z",
     "start_time": "2024-06-07T14:31:44.900140Z"
    }
   },
   "source": [
    "import torch\n",
    "import torch.nn as nn\n",
    "import torch.optim as optim\n",
    "from torchvision import transforms, datasets\n",
    "from torch.utils.data import DataLoader\n",
    "from transformers import CLIPProcessor, CLIPModel\n",
    "from tqdm import tqdm\n",
    "from PIL import ImageFile"
   ],
   "outputs": [],
   "execution_count": 1
  },
  {
   "metadata": {
    "ExecuteTime": {
     "end_time": "2024-06-07T14:31:47.170587Z",
     "start_time": "2024-06-07T14:31:47.124586Z"
    }
   },
   "cell_type": "code",
   "source": [
    "# Включение профилирования CUDNN\n",
    "torch.backends.cudnn.benchmark = True\n",
    "\n",
    "DEVICE = torch.device(\"cuda\" if torch.cuda.is_available() else \"cpu\")\n",
    "DEVICE"
   ],
   "id": "fd891bf90839748a",
   "outputs": [
    {
     "data": {
      "text/plain": [
       "device(type='cuda')"
      ]
     },
     "execution_count": 2,
     "metadata": {},
     "output_type": "execute_result"
    }
   ],
   "execution_count": 2
  },
  {
   "metadata": {
    "ExecuteTime": {
     "end_time": "2024-06-07T14:31:47.185583Z",
     "start_time": "2024-06-07T14:31:47.171584Z"
    }
   },
   "cell_type": "code",
   "source": [
    "# Путь к данным animals\n",
    "train_path = 'D:\\\\ProgPrj\\\\dsProjects\\\\gazprom-media\\\\ml\\\\train'\n",
    "\n",
    "test_path = 'D:\\\\ProgPrj\\\\dsProjects\\\\gazprom-media\\\\ml\\\\test'"
   ],
   "id": "777912f683f492aa",
   "outputs": [],
   "execution_count": 3
  },
  {
   "metadata": {},
   "cell_type": "markdown",
   "source": "# опробовать добавить что-то сюда",
   "id": "52bd5f6250a3480f"
  },
  {
   "metadata": {
    "ExecuteTime": {
     "end_time": "2024-06-07T14:31:47.201583Z",
     "start_time": "2024-06-07T14:31:47.186585Z"
    }
   },
   "cell_type": "code",
   "source": [
    "# Преобразования для тренировочного и валидационного наборов данных\n",
    "train_transform = transforms.Compose([\n",
    "    transforms.RandomHorizontalFlip(),\n",
    "    transforms.RandomVerticalFlip(),\n",
    "    transforms.RandomApply(torch.nn.ModuleList([transforms.ColorJitter()]), p=0.25),\n",
    "    transforms.Resize((224, 224)),\n",
    "    #transforms.CenterCrop(224),\n",
    "    transforms.RandomRotation(degrees=(-10, 10)),\n",
    "    transforms.RandomGrayscale(p=0.2),\n",
    "    transforms.ToTensor(),\n",
    "    transforms.Normalize([0.485, 0.456, 0.406], [0.229, 0.224, 0.225]),\n",
    "    transforms.RandomErasing(p=0.1, value='random')\n",
    "])"
   ],
   "id": "a67f41651df329d0",
   "outputs": [],
   "execution_count": 4
  },
  {
   "metadata": {
    "ExecuteTime": {
     "end_time": "2024-06-07T14:31:47.217582Z",
     "start_time": "2024-06-07T14:31:47.202583Z"
    }
   },
   "cell_type": "code",
   "source": [
    "val_transform = transforms.Compose([\n",
    "    transforms.Resize((224, 224)),\n",
    "    #transforms.CenterCrop(224),\n",
    "    transforms.ToTensor(),\n",
    "    transforms.Normalize([0.485, 0.456, 0.406], [0.229, 0.224, 0.225])\n",
    "])"
   ],
   "id": "4e5bccc5c6ae17c3",
   "outputs": [],
   "execution_count": 5
  },
  {
   "metadata": {
    "ExecuteTime": {
     "end_time": "2024-06-07T14:31:47.485574Z",
     "start_time": "2024-06-07T14:31:47.218584Z"
    }
   },
   "cell_type": "code",
   "source": [
    "# Загрузка данных\n",
    "train_dataset = datasets.ImageFolder(train_path, transform=train_transform)\n",
    "\n",
    "val_dataset = datasets.ImageFolder(test_path, transform=val_transform)"
   ],
   "id": "4fbf238e88e1dbc",
   "outputs": [],
   "execution_count": 6
  },
  {
   "metadata": {
    "ExecuteTime": {
     "end_time": "2024-06-07T14:31:47.501613Z",
     "start_time": "2024-06-07T14:31:47.486573Z"
    }
   },
   "cell_type": "code",
   "source": "print(len(train_dataset.class_to_idx))",
   "id": "9d0f0476e313e868",
   "outputs": [
    {
     "name": "stdout",
     "output_type": "stream",
     "text": [
      "101\n"
     ]
    }
   ],
   "execution_count": 7
  },
  {
   "metadata": {
    "ExecuteTime": {
     "end_time": "2024-06-07T14:31:47.517610Z",
     "start_time": "2024-06-07T14:31:47.502613Z"
    }
   },
   "cell_type": "code",
   "source": [
    "batch_size = 64\n",
    "\n",
    "num_w = 12\n",
    "\n",
    "train_loader = DataLoader(train_dataset, batch_size=batch_size, shuffle=True, num_workers=num_w, pin_memory=True)\n",
    "\n",
    "val_loader = DataLoader(val_dataset, batch_size=batch_size, shuffle=False, num_workers=num_w, pin_memory=True)"
   ],
   "id": "96d78b415c83c9da",
   "outputs": [],
   "execution_count": 8
  },
  {
   "metadata": {
    "jupyter": {
     "is_executing": true
    },
    "ExecuteTime": {
     "start_time": "2024-06-07T14:31:47.518612Z"
    }
   },
   "cell_type": "code",
   "source": [
    "# Загрузка модели и процессора CLIP\n",
    "model = CLIPModel.from_pretrained(\"openai/clip-vit-base-patch32\")\n",
    "processor = CLIPProcessor.from_pretrained(\"openai/clip-vit-base-patch32\")"
   ],
   "id": "decfd9aa87330c28",
   "outputs": [
    {
     "name": "stderr",
     "output_type": "stream",
     "text": [
      "C:\\Users\\Geo\\AppData\\Local\\Programs\\Python\\Python310\\lib\\site-packages\\huggingface_hub\\file_download.py:1132: FutureWarning: `resume_download` is deprecated and will be removed in version 1.0.0. Downloads always resume when possible. If you want to force a new download, use `force_download=True`.\n",
      "  warnings.warn(\n"
     ]
    }
   ],
   "execution_count": null
  },
  {
   "metadata": {
    "jupyter": {
     "is_executing": true
    }
   },
   "cell_type": "code",
   "source": [
    "# Размерность выходных признаков из модели CLIP\n",
    "hidden_size = model.config.projection_dim"
   ],
   "id": "c1ae492b05e62f2d",
   "outputs": [],
   "execution_count": null
  },
  {
   "metadata": {
    "jupyter": {
     "is_executing": true
    }
   },
   "cell_type": "code",
   "source": [
    "\"\"\"class Attention(nn.Module):\n",
    "    def __init__(self, dim):\n",
    "        super(Attention, self).__init__()\n",
    "        self.query = nn.Linear(dim, dim)\n",
    "        self.key = nn.Linear(dim, dim)\n",
    "        self.value = nn.Linear(dim, dim)\n",
    "        self.scale = dim ** -0.5\n",
    "\n",
    "    def forward(self, x):\n",
    "        q = self.query(x)\n",
    "        k = self.key(x)\n",
    "        v = self.value(x)\n",
    "        attn_weights = torch.softmax(q @ k.transpose(-2, -1) * self.scale, dim=-1)\n",
    "        return attn_weights @ v\n",
    "\n",
    "class CustomCLIPModel(nn.Module):\n",
    "    def __init__(self, clip_model, num_classes):\n",
    "        super(CustomCLIPModel, self).__init__()\n",
    "        self.clip_model = clip_model\n",
    "        self.fc1 = nn.Linear(hidden_size, 512)\n",
    "        self.attention = Attention(512)\n",
    "        self.dropout = nn.Dropout(0.5)\n",
    "        self.relu = nn.ReLU()\n",
    "        self.fc2 = nn.Linear(512, 256)\n",
    "        self.fc3 = nn.Linear(256, num_classes)\n",
    "\n",
    "    def forward(self, x):\n",
    "        with torch.no_grad():\n",
    "            features = self.clip_model.get_image_features(x)\n",
    "        x = self.fc1(features)\n",
    "        x = self.attention(x)\n",
    "        x = self.dropout(x)\n",
    "        x = self.relu(x)\n",
    "        x = self.fc2(x)\n",
    "        x = self.relu(x)\n",
    "        x = self.fc3(x)\n",
    "        return x\"\"\""
   ],
   "id": "8d9965efe7db5db0",
   "outputs": [],
   "execution_count": null
  },
  {
   "metadata": {
    "jupyter": {
     "is_executing": true
    }
   },
   "cell_type": "code",
   "source": [
    "# Добавляем новый классификационный слой\n",
    "class CustomCLIPModel(nn.Module):\n",
    "    def __init__(self, clip_model, num_classes):\n",
    "        super(CustomCLIPModel, self).__init__()\n",
    "        self.clip_model = clip_model\n",
    "        self.fc = nn.Linear(hidden_size, num_classes)\n",
    "\n",
    "    def forward(self, x):\n",
    "        with torch.no_grad():\n",
    "            features = self.clip_model.get_image_features(x)\n",
    "        x = self.fc(features)\n",
    "        return x"
   ],
   "id": "d32d89db892f0e24",
   "outputs": [],
   "execution_count": null
  },
  {
   "metadata": {
    "jupyter": {
     "is_executing": true
    }
   },
   "cell_type": "code",
   "source": [
    "num_classes = len(train_dataset.classes)\n",
    "custom_model = CustomCLIPModel(model, num_classes).to(DEVICE)\n",
    "\n",
    "criterion = nn.CrossEntropyLoss()\n",
    "optimizer = optim.RAdam(custom_model.parameters(), lr=1e-3, weight_decay=1e-4)\n",
    "#optimizer = optim.AdamW(custom_model.parameters(), lr=1e-4, weight_decay=1e-5)"
   ],
   "id": "88894958534f6aec",
   "outputs": [],
   "execution_count": null
  },
  {
   "metadata": {
    "jupyter": {
     "is_executing": true
    }
   },
   "cell_type": "code",
   "source": "from torch.cuda.amp import autocast, GradScaler",
   "id": "82243db687878766",
   "outputs": [],
   "execution_count": null
  },
  {
   "metadata": {
    "jupyter": {
     "is_executing": true
    }
   },
   "cell_type": "code",
   "source": [
    "num_epochs = 50\n",
    "train_loss_history = []\n",
    "val_accuracy_history = []\n",
    "val_f1_history = []\n",
    "\n",
    "scaler = torch.cuda.amp.GradScaler()"
   ],
   "id": "6c303428351e4513",
   "outputs": [],
   "execution_count": null
  },
  {
   "metadata": {
    "jupyter": {
     "is_executing": true
    }
   },
   "cell_type": "code",
   "source": [
    "from sklearn.metrics import accuracy_score, f1_score\n",
    "\n",
    "for epoch in range(num_epochs):\n",
    "    ImageFile.LOAD_TRUNCATED_IMAGES = True\n",
    "    custom_model.train()\n",
    "    running_loss = 0.0\n",
    "    train_loader_tqdm = tqdm(train_loader, desc=f'Epoch {epoch+1}/{num_epochs}')\n",
    "\n",
    "    for inputs, labels in train_loader_tqdm:\n",
    "        inputs, labels = inputs.to(DEVICE, non_blocking=True), labels.to(DEVICE, non_blocking=True)\n",
    "\n",
    "        optimizer.zero_grad()\n",
    "\n",
    "        with torch.cuda.amp.autocast():\n",
    "            outputs = custom_model(inputs)\n",
    "            loss = criterion(outputs, labels)\n",
    "\n",
    "        scaler.scale(loss).backward()\n",
    "        scaler.step(optimizer)\n",
    "        scaler.update()\n",
    "\n",
    "        running_loss += loss.item() * inputs.size(0)\n",
    "        train_loader_tqdm.set_postfix(loss=loss.item())\n",
    "\n",
    "    epoch_loss = running_loss / len(train_dataset)\n",
    "    train_loss_history.append(epoch_loss)\n",
    "\n",
    "    # Валидация модели\n",
    "    custom_model.eval()\n",
    "    val_loss = 0.0\n",
    "    all_labels = []\n",
    "    all_predictions = []\n",
    "\n",
    "    with torch.no_grad():\n",
    "        for inputs, labels in val_loader:\n",
    "            inputs, labels = inputs.to(DEVICE, non_blocking=True), labels.to(DEVICE, non_blocking=True)\n",
    "\n",
    "            with torch.cuda.amp.autocast():\n",
    "                outputs = custom_model(inputs)\n",
    "                loss = criterion(outputs, labels)\n",
    "\n",
    "            val_loss += loss.item() * inputs.size(0)\n",
    "            all_labels.extend(labels.cpu().numpy())\n",
    "            all_predictions.extend(outputs.argmax(dim=1).cpu().numpy())\n",
    "\n",
    "    val_loss /= len(val_dataset)\n",
    "    accuracy = accuracy_score(all_labels, all_predictions)\n",
    "    f1 = f1_score(all_labels, all_predictions, average='weighted')\n",
    "\n",
    "    print(f'Epoch {epoch+1}/{num_epochs} - Train Loss: {epoch_loss:.4f}, Val Loss: {val_loss:.4f}, Val Accuracy: {accuracy:.4f}, Val F1-Score: {f1:.4f}')"
   ],
   "id": "3a01d5d59d563f4f",
   "outputs": [],
   "execution_count": null
  },
  {
   "metadata": {
    "jupyter": {
     "is_executing": true
    }
   },
   "cell_type": "code",
   "source": [
    "custom_model.eval()\n",
    "all_preds = []\n",
    "all_labels = []\n",
    "\n",
    "with torch.no_grad():\n",
    "    for inputs, labels in val_loader:\n",
    "        inputs, labels = inputs.to(DEVICE, non_blocking=True), labels.to(DEVICE, non_blocking=True)\n",
    "        outputs = custom_model(inputs)\n",
    "        _, preds = torch.max(outputs, 1)\n",
    "        all_preds.extend(preds.cpu().numpy())\n",
    "        all_labels.extend(labels.cpu().numpy())\n",
    "\n",
    "accuracy = accuracy_score(all_labels, all_preds)\n",
    "f1 = f1_score(all_labels, all_preds, average='macro')\n",
    "val_accuracy_history.append(accuracy)\n",
    "val_f1_history.append(f1)\n",
    "print(f'Validation Accuracy: {accuracy:.4f}, F1 Score: {f1:.4f}')"
   ],
   "id": "16a770e145ce0451",
   "outputs": [],
   "execution_count": null
  },
  {
   "metadata": {
    "jupyter": {
     "is_executing": true
    }
   },
   "cell_type": "code",
   "source": "",
   "id": "ade099b846b240d1",
   "outputs": [],
   "execution_count": null
  }
 ],
 "metadata": {
  "kernelspec": {
   "display_name": "Python 3",
   "language": "python",
   "name": "python3"
  },
  "language_info": {
   "codemirror_mode": {
    "name": "ipython",
    "version": 2
   },
   "file_extension": ".py",
   "mimetype": "text/x-python",
   "name": "python",
   "nbconvert_exporter": "python",
   "pygments_lexer": "ipython2",
   "version": "2.7.6"
  }
 },
 "nbformat": 4,
 "nbformat_minor": 5
}
