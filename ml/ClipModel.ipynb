{
 "cells": [
  {
   "cell_type": "code",
   "id": "initial_id",
   "metadata": {
    "collapsed": true,
    "ExecuteTime": {
     "end_time": "2024-06-04T10:52:22.635587Z",
     "start_time": "2024-06-04T10:52:19.248368Z"
    }
   },
   "source": [
    "import torch\n",
    "import torch.nn as nn\n",
    "import torch.optim as optim\n",
    "from torchvision import transforms, datasets\n",
    "from torch.utils.data import DataLoader\n",
    "from sklearn.metrics import accuracy_score, f1_score\n",
    "from transformers import CLIPProcessor, CLIPModel, CLIPVisionModel\n",
    "from tqdm import tqdm\n",
    "from PIL import ImageFile"
   ],
   "outputs": [],
   "execution_count": 1
  },
  {
   "metadata": {
    "ExecuteTime": {
     "end_time": "2024-06-04T10:52:22.682587Z",
     "start_time": "2024-06-04T10:52:22.636587Z"
    }
   },
   "cell_type": "code",
   "source": [
    "DEVICE = torch.device(\"cuda\" if torch.cuda.is_available() else \"cpu\")\n",
    "DEVICE"
   ],
   "id": "341afe5e8978a9",
   "outputs": [
    {
     "data": {
      "text/plain": [
       "device(type='cuda')"
      ]
     },
     "execution_count": 2,
     "metadata": {},
     "output_type": "execute_result"
    }
   ],
   "execution_count": 2
  },
  {
   "metadata": {
    "ExecuteTime": {
     "end_time": "2024-06-04T10:52:22.698587Z",
     "start_time": "2024-06-04T10:52:22.683588Z"
    }
   },
   "cell_type": "code",
   "source": [
    "# Путь к данным animals\n",
    "train_path = 'D:\\\\ProgPrj\\\\dsProjects\\\\gazprom-media\\\\ml\\\\train'\n",
    "\n",
    "test_path = 'D:\\\\ProgPrj\\\\dsProjects\\\\gazprom-media\\\\ml\\\\test'"
   ],
   "id": "49497f60ddd047f",
   "outputs": [],
   "execution_count": 3
  },
  {
   "metadata": {
    "ExecuteTime": {
     "end_time": "2024-06-04T10:52:22.714590Z",
     "start_time": "2024-06-04T10:52:22.699591Z"
    }
   },
   "cell_type": "code",
   "source": [
    "# Преобразования для тренировочного и валидационного наборов данных\n",
    "train_transform = transforms.Compose([\n",
    "    transforms.RandomHorizontalFlip(),\n",
    "    transforms.RandomVerticalFlip(),\n",
    "    transforms.RandomApply(torch.nn.ModuleList([transforms.ColorJitter()]), p=0.25),\n",
    "    transforms.Resize(256),\n",
    "    transforms.CenterCrop(224),\n",
    "    transforms.RandomRotation(degrees=(-10, 10)),\n",
    "    transforms.RandomGrayscale(p=0.2),\n",
    "    transforms.ToTensor(),\n",
    "    transforms.Normalize([0.485, 0.456, 0.406], [0.229, 0.224, 0.225]),\n",
    "    transforms.RandomErasing(p=0.1, value='random')\n",
    "])"
   ],
   "id": "f32f91ad47a569b",
   "outputs": [],
   "execution_count": 4
  },
  {
   "metadata": {
    "ExecuteTime": {
     "end_time": "2024-06-04T10:52:22.730587Z",
     "start_time": "2024-06-04T10:52:22.715590Z"
    }
   },
   "cell_type": "code",
   "source": [
    "val_transform = transforms.Compose([\n",
    "    transforms.Resize(256),\n",
    "    transforms.CenterCrop(224),\n",
    "    transforms.ToTensor(),\n",
    "    transforms.Normalize([0.485, 0.456, 0.406], [0.229, 0.224, 0.225])\n",
    "])"
   ],
   "id": "df8beccbf2c93eeb",
   "outputs": [],
   "execution_count": 5
  },
  {
   "metadata": {
    "ExecuteTime": {
     "end_time": "2024-06-04T10:52:23.252579Z",
     "start_time": "2024-06-04T10:52:22.731589Z"
    }
   },
   "cell_type": "code",
   "source": [
    "# Загрузка данных\n",
    "train_dataset = datasets.ImageFolder(train_path, transform=train_transform)\n",
    "\n",
    "val_dataset = datasets.ImageFolder(test_path, transform=val_transform)"
   ],
   "id": "711b3a5d5527813c",
   "outputs": [],
   "execution_count": 6
  },
  {
   "metadata": {
    "ExecuteTime": {
     "end_time": "2024-06-04T10:52:23.268601Z",
     "start_time": "2024-06-04T10:52:23.253580Z"
    }
   },
   "cell_type": "code",
   "source": "print(len(train_dataset.class_to_idx))",
   "id": "6ae96f2d7f5197ce",
   "outputs": [
    {
     "name": "stdout",
     "output_type": "stream",
     "text": [
      "101\n"
     ]
    }
   ],
   "execution_count": 7
  },
  {
   "metadata": {
    "ExecuteTime": {
     "end_time": "2024-06-04T10:52:23.284601Z",
     "start_time": "2024-06-04T10:52:23.269601Z"
    }
   },
   "cell_type": "code",
   "source": [
    "batch_size = 96\n",
    "\n",
    "train_loader = DataLoader(train_dataset, batch_size=batch_size, shuffle=True, num_workers=4, pin_memory=True)\n",
    "\n",
    "val_loader = DataLoader(val_dataset, batch_size=batch_size, shuffle=False, num_workers=4, pin_memory=True)"
   ],
   "id": "9081267386426ba2",
   "outputs": [],
   "execution_count": 8
  },
  {
   "metadata": {
    "ExecuteTime": {
     "end_time": "2024-06-04T10:52:25.669444Z",
     "start_time": "2024-06-04T10:52:23.285602Z"
    }
   },
   "cell_type": "code",
   "source": [
    "# Загрузка модели и процессора CLIP\n",
    "model = CLIPModel.from_pretrained(\"openai/clip-vit-base-patch32\")\n",
    "processor = CLIPProcessor.from_pretrained(\"openai/clip-vit-base-patch32\")"
   ],
   "id": "a39167356fdf9ac1",
   "outputs": [
    {
     "name": "stderr",
     "output_type": "stream",
     "text": [
      "C:\\Users\\Geo\\AppData\\Local\\Programs\\Python\\Python310\\lib\\site-packages\\huggingface_hub\\file_download.py:1132: FutureWarning: `resume_download` is deprecated and will be removed in version 1.0.0. Downloads always resume when possible. If you want to force a new download, use `force_download=True`.\n",
      "  warnings.warn(\n",
      "C:\\Users\\Geo\\AppData\\Local\\Programs\\Python\\Python310\\lib\\site-packages\\torch\\_utils.py:831: UserWarning: TypedStorage is deprecated. It will be removed in the future and UntypedStorage will be the only storage class. This should only matter to you if you are using storages directly.  To access UntypedStorage directly, use tensor.untyped_storage() instead of tensor.storage()\n",
      "  return self.fget.__get__(instance, owner)()\n"
     ]
    }
   ],
   "execution_count": 9
  },
  {
   "metadata": {
    "ExecuteTime": {
     "end_time": "2024-06-04T10:52:25.685443Z",
     "start_time": "2024-06-04T10:52:25.670444Z"
    }
   },
   "cell_type": "code",
   "source": [
    "# Размерность выходных признаков из модели CLIP\n",
    "hidden_size = model.config.projection_dim"
   ],
   "id": "194681d3fad7d3aa",
   "outputs": [],
   "execution_count": 10
  },
  {
   "metadata": {
    "ExecuteTime": {
     "end_time": "2024-06-04T10:52:25.701443Z",
     "start_time": "2024-06-04T10:52:25.686444Z"
    }
   },
   "cell_type": "code",
   "source": [
    "# Добавляем новый классификационный слой\n",
    "class CustomCLIPModel(nn.Module):\n",
    "    def __init__(self, clip_model, num_classes):\n",
    "        super(CustomCLIPModel, self).__init__()\n",
    "        self.clip_model = clip_model\n",
    "        self.fc = nn.Linear(hidden_size, num_classes)\n",
    "\n",
    "    def forward(self, x):\n",
    "        with torch.no_grad():\n",
    "            features = self.clip_model.get_image_features(x)\n",
    "        x = self.fc(features)\n",
    "        return x"
   ],
   "id": "5e69aa7dccd04739",
   "outputs": [],
   "execution_count": 11
  },
  {
   "metadata": {
    "ExecuteTime": {
     "end_time": "2024-06-04T10:52:25.922443Z",
     "start_time": "2024-06-04T10:52:25.702444Z"
    }
   },
   "cell_type": "code",
   "source": [
    "num_classes = len(train_dataset.classes)\n",
    "custom_model = CustomCLIPModel(model, num_classes).to(DEVICE)"
   ],
   "id": "b4ef21f09be2e047",
   "outputs": [],
   "execution_count": 12
  },
  {
   "metadata": {
    "ExecuteTime": {
     "end_time": "2024-06-04T10:52:25.938444Z",
     "start_time": "2024-06-04T10:52:25.923444Z"
    }
   },
   "cell_type": "code",
   "source": [
    "# Оптимизатор и функция потерь\n",
    "criterion = nn.CrossEntropyLoss()\n",
    "optimizer = optim.AdamW(custom_model.parameters(), lr=0.0005)"
   ],
   "id": "a20de7072b03745c",
   "outputs": [],
   "execution_count": 13
  },
  {
   "metadata": {
    "ExecuteTime": {
     "end_time": "2024-06-04T10:52:25.954442Z",
     "start_time": "2024-06-04T10:52:25.940443Z"
    }
   },
   "cell_type": "code",
   "source": [
    "# Обучение с использованием градиентного скейлера\n",
    "from torch.cuda.amp import autocast, GradScaler"
   ],
   "id": "f1661489d6182dd3",
   "outputs": [],
   "execution_count": 14
  },
  {
   "metadata": {
    "ExecuteTime": {
     "end_time": "2024-06-04T10:52:25.969443Z",
     "start_time": "2024-06-04T10:52:25.955443Z"
    }
   },
   "cell_type": "code",
   "source": [
    "num_epochs = 70\n",
    "train_loss_history = []\n",
    "val_accuracy_history = []\n",
    "val_f1_history = []\n",
    "\n",
    "# Initialize GradScaler\n",
    "scaler = torch.cuda.amp.GradScaler()\n",
    "#scaler = GradScaler()"
   ],
   "id": "91e2d9983a8b0fdb",
   "outputs": [],
   "execution_count": 15
  },
  {
   "metadata": {
    "ExecuteTime": {
     "end_time": "2024-06-04T12:35:14.936063Z",
     "start_time": "2024-06-04T10:52:25.970443Z"
    }
   },
   "cell_type": "code",
   "source": [
    "for epoch in range(num_epochs):\n",
    "    ImageFile.LOAD_TRUNCATED_IMAGES = True\n",
    "    custom_model.train()\n",
    "    running_loss = 0.0\n",
    "    train_loader_tqdm = tqdm(train_loader, desc=f'Epoch {epoch+1}/{num_epochs}')\n",
    "\n",
    "    for inputs, labels in train_loader_tqdm:\n",
    "        inputs, labels = inputs.to(DEVICE, non_blocking=True), labels.to(DEVICE, non_blocking=True)\n",
    "\n",
    "        optimizer.zero_grad()\n",
    "\n",
    "        with torch.cuda.amp.autocast():\n",
    "            outputs = custom_model(inputs)\n",
    "            loss = criterion(outputs, labels)\n",
    "\n",
    "        scaler.scale(loss).backward()\n",
    "        scaler.step(optimizer)\n",
    "        scaler.update()\n",
    "\n",
    "        running_loss += loss.item() * inputs.size(0)\n",
    "        train_loader_tqdm.set_postfix(loss=loss.item())\n",
    "\n",
    "    epoch_loss = running_loss / len(train_dataset)\n",
    "    train_loss_history.append(epoch_loss)"
   ],
   "id": "d4a2aefb68d8534a",
   "outputs": [
    {
     "name": "stderr",
     "output_type": "stream",
     "text": [
      "Epoch 1/70: 100%|██████████| 790/790 [01:34<00:00,  8.40it/s, loss=2.74]\n",
      "Epoch 2/70: 100%|██████████| 790/790 [01:27<00:00,  9.00it/s, loss=1.31]\n",
      "Epoch 3/70: 100%|██████████| 790/790 [01:29<00:00,  8.82it/s, loss=0.911]\n",
      "Epoch 4/70: 100%|██████████| 790/790 [01:26<00:00,  9.15it/s, loss=0.804]\n",
      "Epoch 5/70: 100%|██████████| 790/790 [01:26<00:00,  9.14it/s, loss=0.104]\n",
      "Epoch 6/70: 100%|██████████| 790/790 [01:26<00:00,  9.17it/s, loss=1.57] \n",
      "Epoch 7/70: 100%|██████████| 790/790 [01:37<00:00,  8.14it/s, loss=1.25] \n",
      "Epoch 8/70: 100%|██████████| 790/790 [01:32<00:00,  8.57it/s, loss=0.541]\n",
      "Epoch 9/70: 100%|██████████| 790/790 [01:29<00:00,  8.83it/s, loss=1.01] \n",
      "Epoch 10/70: 100%|██████████| 790/790 [01:29<00:00,  8.87it/s, loss=1.46] \n",
      "Epoch 11/70: 100%|██████████| 790/790 [01:32<00:00,  8.58it/s, loss=1.12] \n",
      "Epoch 12/70: 100%|██████████| 790/790 [01:32<00:00,  8.55it/s, loss=1.24] \n",
      "Epoch 13/70: 100%|██████████| 790/790 [01:27<00:00,  9.04it/s, loss=0.984]\n",
      "Epoch 14/70: 100%|██████████| 790/790 [01:28<00:00,  8.88it/s, loss=1.93] \n",
      "Epoch 15/70: 100%|██████████| 790/790 [01:30<00:00,  8.76it/s, loss=1.4]  \n",
      "Epoch 16/70: 100%|██████████| 790/790 [01:27<00:00,  9.05it/s, loss=0.836]\n",
      "Epoch 17/70: 100%|██████████| 790/790 [01:28<00:00,  8.97it/s, loss=1.4]  \n",
      "Epoch 18/70: 100%|██████████| 790/790 [01:27<00:00,  9.00it/s, loss=1.71] \n",
      "Epoch 19/70: 100%|██████████| 790/790 [01:30<00:00,  8.77it/s, loss=3.11] \n",
      "Epoch 20/70: 100%|██████████| 790/790 [01:27<00:00,  9.01it/s, loss=1.7]  \n",
      "Epoch 21/70: 100%|██████████| 790/790 [01:27<00:00,  8.99it/s, loss=0.861]\n",
      "Epoch 22/70: 100%|██████████| 790/790 [01:28<00:00,  8.94it/s, loss=1.21] \n",
      "Epoch 23/70: 100%|██████████| 790/790 [01:31<00:00,  8.65it/s, loss=1.19] \n",
      "Epoch 24/70: 100%|██████████| 790/790 [01:26<00:00,  9.12it/s, loss=0.887]\n",
      "Epoch 25/70: 100%|██████████| 790/790 [01:27<00:00,  9.03it/s, loss=2.05] \n",
      "Epoch 26/70: 100%|██████████| 790/790 [01:24<00:00,  9.35it/s, loss=1.74] \n",
      "Epoch 27/70: 100%|██████████| 790/790 [01:26<00:00,  9.08it/s, loss=0.851]\n",
      "Epoch 28/70: 100%|██████████| 790/790 [01:25<00:00,  9.27it/s, loss=0.958]\n",
      "Epoch 29/70: 100%|██████████| 790/790 [01:24<00:00,  9.37it/s, loss=1.53] \n",
      "Epoch 30/70: 100%|██████████| 790/790 [01:25<00:00,  9.26it/s, loss=0.479]\n",
      "Epoch 31/70: 100%|██████████| 790/790 [01:26<00:00,  9.08it/s, loss=1.09] \n",
      "Epoch 32/70: 100%|██████████| 790/790 [01:27<00:00,  9.05it/s, loss=2]    \n",
      "Epoch 33/70: 100%|██████████| 790/790 [01:26<00:00,  9.09it/s, loss=0.665]\n",
      "Epoch 34/70: 100%|██████████| 790/790 [01:27<00:00,  9.07it/s, loss=0.0599]\n",
      "Epoch 35/70: 100%|██████████| 790/790 [01:28<00:00,  8.88it/s, loss=1.66] \n",
      "Epoch 36/70: 100%|██████████| 790/790 [01:26<00:00,  9.15it/s, loss=0.708]\n",
      "Epoch 37/70: 100%|██████████| 790/790 [01:27<00:00,  9.05it/s, loss=1.95] \n",
      "Epoch 38/70: 100%|██████████| 790/790 [01:27<00:00,  9.04it/s, loss=0.899]\n",
      "Epoch 39/70: 100%|██████████| 790/790 [01:30<00:00,  8.69it/s, loss=1.01] \n",
      "Epoch 40/70: 100%|██████████| 790/790 [01:26<00:00,  9.14it/s, loss=0.127]\n",
      "Epoch 41/70: 100%|██████████| 790/790 [01:27<00:00,  9.00it/s, loss=0.904]\n",
      "Epoch 42/70: 100%|██████████| 790/790 [01:28<00:00,  8.93it/s, loss=2.6]  \n",
      "Epoch 43/70: 100%|██████████| 790/790 [01:28<00:00,  8.88it/s, loss=2.27] \n",
      "Epoch 44/70: 100%|██████████| 790/790 [01:27<00:00,  8.99it/s, loss=0.772]\n",
      "Epoch 45/70: 100%|██████████| 790/790 [01:27<00:00,  9.08it/s, loss=1.81] \n",
      "Epoch 46/70: 100%|██████████| 790/790 [01:26<00:00,  9.16it/s, loss=1.77] \n",
      "Epoch 47/70: 100%|██████████| 790/790 [01:28<00:00,  8.91it/s, loss=0.322]\n",
      "Epoch 48/70: 100%|██████████| 790/790 [01:27<00:00,  9.07it/s, loss=0.534]\n",
      "Epoch 49/70: 100%|██████████| 790/790 [01:26<00:00,  9.15it/s, loss=1.63] \n",
      "Epoch 50/70: 100%|██████████| 790/790 [01:26<00:00,  9.11it/s, loss=1.24] \n",
      "Epoch 51/70: 100%|██████████| 790/790 [01:28<00:00,  8.94it/s, loss=1.48] \n",
      "Epoch 52/70: 100%|██████████| 790/790 [01:27<00:00,  9.07it/s, loss=0.235]\n",
      "Epoch 53/70: 100%|██████████| 790/790 [01:26<00:00,  9.14it/s, loss=1.19] \n",
      "Epoch 54/70: 100%|██████████| 790/790 [01:26<00:00,  9.09it/s, loss=0.833]\n",
      "Epoch 55/70: 100%|██████████| 790/790 [01:29<00:00,  8.86it/s, loss=1.11] \n",
      "Epoch 56/70: 100%|██████████| 790/790 [01:27<00:00,  9.03it/s, loss=0.107]\n",
      "Epoch 57/70: 100%|██████████| 790/790 [01:27<00:00,  9.00it/s, loss=1.04] \n",
      "Epoch 58/70: 100%|██████████| 790/790 [01:26<00:00,  9.11it/s, loss=0.976]\n",
      "Epoch 59/70: 100%|██████████| 790/790 [01:27<00:00,  9.00it/s, loss=1.71] \n",
      "Epoch 60/70: 100%|██████████| 790/790 [01:26<00:00,  9.08it/s, loss=1.33] \n",
      "Epoch 61/70: 100%|██████████| 790/790 [01:27<00:00,  9.06it/s, loss=1.85] \n",
      "Epoch 62/70: 100%|██████████| 790/790 [01:27<00:00,  9.01it/s, loss=0.708]\n",
      "Epoch 63/70: 100%|██████████| 790/790 [01:28<00:00,  8.91it/s, loss=0.303]\n",
      "Epoch 64/70: 100%|██████████| 790/790 [01:27<00:00,  9.00it/s, loss=0.715]\n",
      "Epoch 65/70: 100%|██████████| 790/790 [01:27<00:00,  9.00it/s, loss=1.2]  \n",
      "Epoch 66/70: 100%|██████████| 790/790 [01:26<00:00,  9.15it/s, loss=0.26] \n",
      "Epoch 67/70: 100%|██████████| 790/790 [01:29<00:00,  8.84it/s, loss=0.547]\n",
      "Epoch 68/70: 100%|██████████| 790/790 [01:27<00:00,  9.03it/s, loss=0.678]\n",
      "Epoch 69/70: 100%|██████████| 790/790 [01:32<00:00,  8.52it/s, loss=0.825]\n",
      "Epoch 70/70: 100%|██████████| 790/790 [01:30<00:00,  8.70it/s, loss=0.992]\n"
     ]
    }
   ],
   "execution_count": 16
  },
  {
   "metadata": {
    "ExecuteTime": {
     "end_time": "2024-06-04T12:35:14.951063Z",
     "start_time": "2024-06-04T12:35:14.937065Z"
    }
   },
   "cell_type": "code",
   "source": [
    "\"\"\"for epoch in range(num_epochs):\n",
    "    ImageFile.LOAD_TRUNCATED_IMAGES = True\n",
    "    custom_model.train()\n",
    "    running_loss = 0.0\n",
    "    train_loader_tqdm = tqdm(train_loader, desc=f'Epoch {epoch+1}/{num_epochs}')\n",
    "\n",
    "    for inputs, labels in train_loader_tqdm:\n",
    "        inputs, labels = inputs.to(DEVICE, non_blocking=True), labels.to(DEVICE, non_blocking=True)\n",
    "\n",
    "        optimizer.zero_grad()\n",
    "\n",
    "        with autocast():\n",
    "            outputs = custom_model(inputs)\n",
    "            loss = criterion(outputs, labels)\n",
    "\n",
    "        scaler.scale(loss).backward()\n",
    "        scaler.step(optimizer)\n",
    "        scaler.update()\n",
    "\n",
    "        running_loss += loss.item() * inputs.size(0)\n",
    "        train_loader_tqdm.set_postfix(loss=loss.item())\n",
    "\n",
    "    epoch_loss = running_loss / len(train_dataset)\n",
    "    train_loss_history.append(epoch_loss)\"\"\";"
   ],
   "id": "2dac92f8bc9fe977",
   "outputs": [],
   "execution_count": 17
  },
  {
   "metadata": {
    "ExecuteTime": {
     "end_time": "2024-06-04T12:35:47.178878Z",
     "start_time": "2024-06-04T12:35:14.952064Z"
    }
   },
   "cell_type": "code",
   "source": [
    "custom_model.eval()\n",
    "all_preds = []\n",
    "all_labels = []\n",
    "\n",
    "with torch.no_grad():\n",
    "    for inputs, labels in val_loader:\n",
    "        inputs, labels = inputs.to(DEVICE, non_blocking=True), labels.to(DEVICE, non_blocking=True)\n",
    "        outputs = custom_model(inputs)\n",
    "        _, preds = torch.max(outputs, 1)\n",
    "        all_preds.extend(preds.cpu().numpy())\n",
    "        all_labels.extend(labels.cpu().numpy())\n",
    "\n",
    "accuracy = accuracy_score(all_labels, all_preds)\n",
    "f1 = f1_score(all_labels, all_preds, average='macro')\n",
    "val_accuracy_history.append(accuracy)\n",
    "val_f1_history.append(f1)\n",
    "print(f'Validation Accuracy: {accuracy:.4f}, F1 Score: {f1:.4f}')"
   ],
   "id": "fcf8c43e6bb157ba",
   "outputs": [
    {
     "name": "stdout",
     "output_type": "stream",
     "text": [
      "Validation Accuracy: 0.8728, F1 Score: 0.8723\n"
     ]
    }
   ],
   "execution_count": 18
  },
  {
   "metadata": {
    "ExecuteTime": {
     "end_time": "2024-06-04T12:46:50.141318Z",
     "start_time": "2024-06-04T12:46:48.037451Z"
    }
   },
   "cell_type": "code",
   "source": [
    "example_input = torch.randn(1, 3, 224, 224).to(DEVICE)  # Подходит для большинства моделей, работающих с изображениями\n",
    "\n",
    "# Сохранение модели\n",
    "traced_model = torch.jit.trace(custom_model, example_input)\n",
    "traced_model.save(\"custom_model_traced_087.pt\")"
   ],
   "id": "c62ec8a5b88d495c",
   "outputs": [
    {
     "name": "stderr",
     "output_type": "stream",
     "text": [
      "C:\\Users\\Geo\\AppData\\Local\\Programs\\Python\\Python310\\lib\\site-packages\\transformers\\models\\clip\\modeling_clip.py:279: TracerWarning: Converting a tensor to a Python boolean might cause the trace to be incorrect. We can't record the data flow of Python values, so this value will be treated as a constant in the future. This means that the trace might not generalize to other inputs!\n",
      "  if attn_weights.size() != (bsz * self.num_heads, tgt_len, src_len):\n",
      "C:\\Users\\Geo\\AppData\\Local\\Programs\\Python\\Python310\\lib\\site-packages\\transformers\\models\\clip\\modeling_clip.py:319: TracerWarning: Converting a tensor to a Python boolean might cause the trace to be incorrect. We can't record the data flow of Python values, so this value will be treated as a constant in the future. This means that the trace might not generalize to other inputs!\n",
      "  if attn_output.size() != (bsz * self.num_heads, tgt_len, self.head_dim):\n"
     ]
    }
   ],
   "execution_count": 20
  }
 ],
 "metadata": {
  "kernelspec": {
   "display_name": "Python 3",
   "language": "python",
   "name": "python3"
  },
  "language_info": {
   "codemirror_mode": {
    "name": "ipython",
    "version": 2
   },
   "file_extension": ".py",
   "mimetype": "text/x-python",
   "name": "python",
   "nbconvert_exporter": "python",
   "pygments_lexer": "ipython2",
   "version": "2.7.6"
  }
 },
 "nbformat": 4,
 "nbformat_minor": 5
}
