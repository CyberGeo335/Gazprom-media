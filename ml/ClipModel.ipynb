{
 "cells": [
  {
   "cell_type": "code",
   "id": "initial_id",
   "metadata": {
    "collapsed": true,
    "ExecuteTime": {
     "end_time": "2024-06-04T03:09:09.195872Z",
     "start_time": "2024-06-04T03:09:04.512767Z"
    }
   },
   "source": [
    "import torch\n",
    "import torch.nn as nn\n",
    "import torch.optim as optim\n",
    "from torchvision import transforms, datasets\n",
    "from torch.utils.data import DataLoader\n",
    "from sklearn.metrics import accuracy_score, f1_score\n",
    "from transformers import CLIPProcessor, CLIPModel, CLIPVisionModel\n",
    "from tqdm import tqdm\n",
    "from PIL import ImageFile"
   ],
   "outputs": [],
   "execution_count": 1
  },
  {
   "metadata": {
    "ExecuteTime": {
     "end_time": "2024-06-04T03:09:09.258872Z",
     "start_time": "2024-06-04T03:09:09.196872Z"
    }
   },
   "cell_type": "code",
   "source": [
    "DEVICE = torch.device(\"cuda\" if torch.cuda.is_available() else \"cpu\")\n",
    "DEVICE"
   ],
   "id": "341afe5e8978a9",
   "outputs": [
    {
     "data": {
      "text/plain": [
       "device(type='cuda')"
      ]
     },
     "execution_count": 2,
     "metadata": {},
     "output_type": "execute_result"
    }
   ],
   "execution_count": 2
  },
  {
   "metadata": {
    "ExecuteTime": {
     "end_time": "2024-06-04T03:09:09.274872Z",
     "start_time": "2024-06-04T03:09:09.259872Z"
    }
   },
   "cell_type": "code",
   "source": [
    "# Путь к данным animals\n",
    "train_path = 'D:\\\\ProgPrj\\\\dsProjects\\\\gazprom-media\\\\ml\\\\train'\n",
    "\n",
    "test_path = 'D:\\\\ProgPrj\\\\dsProjects\\\\gazprom-media\\\\ml\\\\test'"
   ],
   "id": "49497f60ddd047f",
   "outputs": [],
   "execution_count": 3
  },
  {
   "metadata": {
    "ExecuteTime": {
     "end_time": "2024-06-04T03:09:09.289872Z",
     "start_time": "2024-06-04T03:09:09.275873Z"
    }
   },
   "cell_type": "code",
   "source": [
    "# Преобразования для тренировочного и валидационного наборов данных\n",
    "train_transform = transforms.Compose([\n",
    "    transforms.RandomHorizontalFlip(),\n",
    "    transforms.RandomVerticalFlip(),\n",
    "    transforms.RandomApply(torch.nn.ModuleList([transforms.ColorJitter()]), p=0.25),\n",
    "    transforms.Resize(256),\n",
    "    transforms.CenterCrop(224),\n",
    "    transforms.RandomRotation(degrees=(-10, 10)),\n",
    "    transforms.RandomGrayscale(p=0.2),\n",
    "    transforms.ToTensor(),\n",
    "    transforms.Normalize([0.485, 0.456, 0.406], [0.229, 0.224, 0.225]),\n",
    "    transforms.RandomErasing(p=0.1, value='random')\n",
    "])"
   ],
   "id": "f32f91ad47a569b",
   "outputs": [],
   "execution_count": 4
  },
  {
   "metadata": {
    "ExecuteTime": {
     "end_time": "2024-06-04T03:09:09.305871Z",
     "start_time": "2024-06-04T03:09:09.291872Z"
    }
   },
   "cell_type": "code",
   "source": [
    "val_transform = transforms.Compose([\n",
    "    transforms.Resize(256),\n",
    "    transforms.CenterCrop(224),\n",
    "    transforms.ToTensor(),\n",
    "    transforms.Normalize([0.485, 0.456, 0.406], [0.229, 0.224, 0.225])\n",
    "])"
   ],
   "id": "df8beccbf2c93eeb",
   "outputs": [],
   "execution_count": 5
  },
  {
   "metadata": {
    "ExecuteTime": {
     "end_time": "2024-06-04T03:09:09.592871Z",
     "start_time": "2024-06-04T03:09:09.306873Z"
    }
   },
   "cell_type": "code",
   "source": [
    "# Загрузка данных\n",
    "train_dataset = datasets.ImageFolder(train_path, transform=train_transform)\n",
    "\n",
    "val_dataset = datasets.ImageFolder(test_path, transform=val_transform)"
   ],
   "id": "711b3a5d5527813c",
   "outputs": [],
   "execution_count": 6
  },
  {
   "metadata": {
    "ExecuteTime": {
     "end_time": "2024-06-04T03:09:09.607872Z",
     "start_time": "2024-06-04T03:09:09.593873Z"
    }
   },
   "cell_type": "code",
   "source": "print(len(train_dataset.class_to_idx))",
   "id": "6ae96f2d7f5197ce",
   "outputs": [
    {
     "name": "stdout",
     "output_type": "stream",
     "text": [
      "101\n"
     ]
    }
   ],
   "execution_count": 7
  },
  {
   "metadata": {
    "ExecuteTime": {
     "end_time": "2024-06-04T03:09:09.622871Z",
     "start_time": "2024-06-04T03:09:09.608872Z"
    }
   },
   "cell_type": "code",
   "source": [
    "batch_size = 96\n",
    "\n",
    "train_loader = DataLoader(train_dataset, batch_size=batch_size, shuffle=True, num_workers=4, pin_memory=True)\n",
    "\n",
    "val_loader = DataLoader(val_dataset, batch_size=batch_size, shuffle=False, num_workers=4, pin_memory=True)"
   ],
   "id": "9081267386426ba2",
   "outputs": [],
   "execution_count": 8
  },
  {
   "metadata": {
    "ExecuteTime": {
     "end_time": "2024-06-04T03:09:11.975884Z",
     "start_time": "2024-06-04T03:09:09.623873Z"
    }
   },
   "cell_type": "code",
   "source": [
    "# Загрузка модели и процессора CLIP\n",
    "model = CLIPModel.from_pretrained(\"openai/clip-vit-base-patch32\")\n",
    "processor = CLIPProcessor.from_pretrained(\"openai/clip-vit-base-patch32\")"
   ],
   "id": "a39167356fdf9ac1",
   "outputs": [
    {
     "name": "stderr",
     "output_type": "stream",
     "text": [
      "C:\\Users\\Geo\\AppData\\Local\\Programs\\Python\\Python310\\lib\\site-packages\\huggingface_hub\\file_download.py:1132: FutureWarning: `resume_download` is deprecated and will be removed in version 1.0.0. Downloads always resume when possible. If you want to force a new download, use `force_download=True`.\n",
      "  warnings.warn(\n",
      "C:\\Users\\Geo\\AppData\\Local\\Programs\\Python\\Python310\\lib\\site-packages\\torch\\_utils.py:831: UserWarning: TypedStorage is deprecated. It will be removed in the future and UntypedStorage will be the only storage class. This should only matter to you if you are using storages directly.  To access UntypedStorage directly, use tensor.untyped_storage() instead of tensor.storage()\n",
      "  return self.fget.__get__(instance, owner)()\n"
     ]
    }
   ],
   "execution_count": 9
  },
  {
   "metadata": {
    "ExecuteTime": {
     "end_time": "2024-06-04T03:09:11.991885Z",
     "start_time": "2024-06-04T03:09:11.976886Z"
    }
   },
   "cell_type": "code",
   "source": [
    "# Размерность выходных признаков из модели CLIP\n",
    "hidden_size = model.config.projection_dim"
   ],
   "id": "194681d3fad7d3aa",
   "outputs": [],
   "execution_count": 10
  },
  {
   "metadata": {
    "ExecuteTime": {
     "end_time": "2024-06-04T03:09:12.007886Z",
     "start_time": "2024-06-04T03:09:11.992885Z"
    }
   },
   "cell_type": "code",
   "source": [
    "# Добавляем новый классификационный слой\n",
    "class CustomCLIPModel(nn.Module):\n",
    "    def __init__(self, clip_model, num_classes):\n",
    "        super(CustomCLIPModel, self).__init__()\n",
    "        self.clip_model = clip_model\n",
    "        self.fc = nn.Linear(hidden_size, num_classes)\n",
    "\n",
    "    def forward(self, x):\n",
    "        with torch.no_grad():\n",
    "            features = self.clip_model.get_image_features(x)\n",
    "        x = self.fc(features)\n",
    "        return x"
   ],
   "id": "5e69aa7dccd04739",
   "outputs": [],
   "execution_count": 11
  },
  {
   "metadata": {
    "ExecuteTime": {
     "end_time": "2024-06-04T03:09:12.227884Z",
     "start_time": "2024-06-04T03:09:12.008886Z"
    }
   },
   "cell_type": "code",
   "source": [
    "num_classes = len(train_dataset.classes)\n",
    "custom_model = CustomCLIPModel(model, num_classes).to(DEVICE)"
   ],
   "id": "b4ef21f09be2e047",
   "outputs": [],
   "execution_count": 12
  },
  {
   "metadata": {
    "ExecuteTime": {
     "end_time": "2024-06-04T03:09:12.243885Z",
     "start_time": "2024-06-04T03:09:12.228885Z"
    }
   },
   "cell_type": "code",
   "source": [
    "# Оптимизатор и функция потерь\n",
    "criterion = nn.CrossEntropyLoss()\n",
    "optimizer = optim.AdamW(custom_model.parameters(), lr=0.0001)"
   ],
   "id": "a20de7072b03745c",
   "outputs": [],
   "execution_count": 13
  },
  {
   "metadata": {
    "ExecuteTime": {
     "end_time": "2024-06-04T03:09:12.259888Z",
     "start_time": "2024-06-04T03:09:12.244885Z"
    }
   },
   "cell_type": "code",
   "source": [
    "# Обучение с использованием градиентного скейлера\n",
    "from torch.cuda.amp import autocast, GradScaler"
   ],
   "id": "f1661489d6182dd3",
   "outputs": [],
   "execution_count": 14
  },
  {
   "metadata": {
    "ExecuteTime": {
     "end_time": "2024-06-04T03:09:12.275885Z",
     "start_time": "2024-06-04T03:09:12.260887Z"
    }
   },
   "cell_type": "code",
   "source": [
    "num_epochs = 50\n",
    "train_loss_history = []\n",
    "val_accuracy_history = []\n",
    "val_f1_history = []\n",
    "\n",
    "# Initialize GradScaler\n",
    "scaler = torch.cuda.amp.GradScaler()\n",
    "#scaler = GradScaler()"
   ],
   "id": "91e2d9983a8b0fdb",
   "outputs": [],
   "execution_count": 15
  },
  {
   "metadata": {
    "ExecuteTime": {
     "end_time": "2024-06-04T04:22:37.314432Z",
     "start_time": "2024-06-04T03:09:12.276886Z"
    }
   },
   "cell_type": "code",
   "source": [
    "for epoch in range(num_epochs):\n",
    "    ImageFile.LOAD_TRUNCATED_IMAGES = True\n",
    "    custom_model.train()\n",
    "    running_loss = 0.0\n",
    "    train_loader_tqdm = tqdm(train_loader, desc=f'Epoch {epoch+1}/{num_epochs}')\n",
    "\n",
    "    for inputs, labels in train_loader_tqdm:\n",
    "        inputs, labels = inputs.to(DEVICE, non_blocking=True), labels.to(DEVICE, non_blocking=True)\n",
    "\n",
    "        optimizer.zero_grad()\n",
    "\n",
    "        with torch.cuda.amp.autocast():\n",
    "            outputs = custom_model(inputs)\n",
    "            loss = criterion(outputs, labels)\n",
    "\n",
    "        scaler.scale(loss).backward()\n",
    "        scaler.step(optimizer)\n",
    "        scaler.update()\n",
    "\n",
    "        running_loss += loss.item() * inputs.size(0)\n",
    "        train_loader_tqdm.set_postfix(loss=loss.item())\n",
    "\n",
    "    epoch_loss = running_loss / len(train_dataset)\n",
    "    train_loss_history.append(epoch_loss)"
   ],
   "id": "d4a2aefb68d8534a",
   "outputs": [
    {
     "name": "stderr",
     "output_type": "stream",
     "text": [
      "Epoch 1/50: 100%|██████████| 790/790 [01:34<00:00,  8.38it/s, loss=3.22]\n",
      "Epoch 2/50: 100%|██████████| 790/790 [01:32<00:00,  8.52it/s, loss=2.79]\n",
      "Epoch 3/50: 100%|██████████| 790/790 [01:28<00:00,  8.88it/s, loss=2.15]\n",
      "Epoch 4/50: 100%|██████████| 790/790 [01:25<00:00,  9.19it/s, loss=2.07]\n",
      "Epoch 5/50: 100%|██████████| 790/790 [01:26<00:00,  9.18it/s, loss=1.9] \n",
      "Epoch 6/50: 100%|██████████| 790/790 [01:25<00:00,  9.20it/s, loss=0.488]\n",
      "Epoch 7/50: 100%|██████████| 790/790 [01:29<00:00,  8.82it/s, loss=1.46]\n",
      "Epoch 8/50: 100%|██████████| 790/790 [01:25<00:00,  9.23it/s, loss=0.892]\n",
      "Epoch 9/50: 100%|██████████| 790/790 [01:25<00:00,  9.22it/s, loss=1.25]\n",
      "Epoch 10/50: 100%|██████████| 790/790 [01:25<00:00,  9.20it/s, loss=0.813]\n",
      "Epoch 11/50: 100%|██████████| 790/790 [01:28<00:00,  8.92it/s, loss=1.35] \n",
      "Epoch 12/50: 100%|██████████| 790/790 [01:26<00:00,  9.13it/s, loss=0.47] \n",
      "Epoch 13/50: 100%|██████████| 790/790 [01:27<00:00,  9.07it/s, loss=0.811]\n",
      "Epoch 14/50: 100%|██████████| 790/790 [01:27<00:00,  9.06it/s, loss=1.97] \n",
      "Epoch 15/50: 100%|██████████| 790/790 [01:29<00:00,  8.85it/s, loss=1.44] \n",
      "Epoch 16/50: 100%|██████████| 790/790 [01:26<00:00,  9.16it/s, loss=2.81] \n",
      "Epoch 17/50: 100%|██████████| 790/790 [01:27<00:00,  9.02it/s, loss=0.568]\n",
      "Epoch 18/50: 100%|██████████| 790/790 [01:27<00:00,  9.03it/s, loss=1.23] \n",
      "Epoch 19/50: 100%|██████████| 790/790 [01:30<00:00,  8.77it/s, loss=2.14] \n",
      "Epoch 20/50: 100%|██████████| 790/790 [01:27<00:00,  9.01it/s, loss=0.432]\n",
      "Epoch 21/50: 100%|██████████| 790/790 [01:27<00:00,  9.01it/s, loss=1.94] \n",
      "Epoch 22/50: 100%|██████████| 790/790 [01:28<00:00,  8.97it/s, loss=0.708]\n",
      "Epoch 23/50: 100%|██████████| 790/790 [01:30<00:00,  8.73it/s, loss=0.495]\n",
      "Epoch 24/50: 100%|██████████| 790/790 [01:27<00:00,  9.00it/s, loss=0.937]\n",
      "Epoch 25/50: 100%|██████████| 790/790 [01:27<00:00,  9.05it/s, loss=0.784]\n",
      "Epoch 26/50: 100%|██████████| 790/790 [01:28<00:00,  8.97it/s, loss=1.68] \n",
      "Epoch 27/50: 100%|██████████| 790/790 [01:30<00:00,  8.71it/s, loss=2.84] \n",
      "Epoch 28/50: 100%|██████████| 790/790 [01:28<00:00,  8.93it/s, loss=1.26] \n",
      "Epoch 29/50: 100%|██████████| 790/790 [01:28<00:00,  8.97it/s, loss=0.75] \n",
      "Epoch 30/50: 100%|██████████| 790/790 [01:27<00:00,  8.98it/s, loss=1.66] \n",
      "Epoch 31/50: 100%|██████████| 790/790 [01:31<00:00,  8.62it/s, loss=2.17] \n",
      "Epoch 32/50: 100%|██████████| 790/790 [01:28<00:00,  8.91it/s, loss=1.89] \n",
      "Epoch 33/50: 100%|██████████| 790/790 [01:27<00:00,  8.99it/s, loss=1.63] \n",
      "Epoch 34/50: 100%|██████████| 790/790 [01:28<00:00,  8.92it/s, loss=1.07] \n",
      "Epoch 35/50: 100%|██████████| 790/790 [01:30<00:00,  8.74it/s, loss=2.22] \n",
      "Epoch 36/50: 100%|██████████| 790/790 [01:28<00:00,  8.97it/s, loss=1.83] \n",
      "Epoch 37/50: 100%|██████████| 790/790 [01:26<00:00,  9.14it/s, loss=0.884]\n",
      "Epoch 38/50: 100%|██████████| 790/790 [01:27<00:00,  9.06it/s, loss=1.36] \n",
      "Epoch 39/50: 100%|██████████| 790/790 [01:29<00:00,  8.86it/s, loss=0.606]\n",
      "Epoch 40/50: 100%|██████████| 790/790 [01:27<00:00,  9.03it/s, loss=1.43] \n",
      "Epoch 41/50: 100%|██████████| 790/790 [01:26<00:00,  9.14it/s, loss=1.39] \n",
      "Epoch 42/50: 100%|██████████| 790/790 [01:27<00:00,  9.01it/s, loss=1.68] \n",
      "Epoch 43/50: 100%|██████████| 790/790 [01:30<00:00,  8.71it/s, loss=1.53] \n",
      "Epoch 44/50: 100%|██████████| 790/790 [01:26<00:00,  9.09it/s, loss=1.13] \n",
      "Epoch 45/50: 100%|██████████| 790/790 [01:26<00:00,  9.16it/s, loss=1.31] \n",
      "Epoch 46/50: 100%|██████████| 790/790 [01:27<00:00,  9.08it/s, loss=0.668]\n",
      "Epoch 47/50: 100%|██████████| 790/790 [01:30<00:00,  8.76it/s, loss=0.435]\n",
      "Epoch 48/50: 100%|██████████| 790/790 [01:27<00:00,  9.00it/s, loss=1.43] \n",
      "Epoch 49/50: 100%|██████████| 790/790 [01:26<00:00,  9.10it/s, loss=1.56] \n",
      "Epoch 50/50: 100%|██████████| 790/790 [01:27<00:00,  9.08it/s, loss=2.28] \n"
     ]
    }
   ],
   "execution_count": 16
  },
  {
   "metadata": {
    "ExecuteTime": {
     "end_time": "2024-06-04T04:22:37.329432Z",
     "start_time": "2024-06-04T04:22:37.315433Z"
    }
   },
   "cell_type": "code",
   "source": [
    "\"\"\"for epoch in range(num_epochs):\n",
    "    ImageFile.LOAD_TRUNCATED_IMAGES = True\n",
    "    custom_model.train()\n",
    "    running_loss = 0.0\n",
    "    train_loader_tqdm = tqdm(train_loader, desc=f'Epoch {epoch+1}/{num_epochs}')\n",
    "\n",
    "    for inputs, labels in train_loader_tqdm:\n",
    "        inputs, labels = inputs.to(DEVICE, non_blocking=True), labels.to(DEVICE, non_blocking=True)\n",
    "\n",
    "        optimizer.zero_grad()\n",
    "\n",
    "        with autocast():\n",
    "            outputs = custom_model(inputs)\n",
    "            loss = criterion(outputs, labels)\n",
    "\n",
    "        scaler.scale(loss).backward()\n",
    "        scaler.step(optimizer)\n",
    "        scaler.update()\n",
    "\n",
    "        running_loss += loss.item() * inputs.size(0)\n",
    "        train_loader_tqdm.set_postfix(loss=loss.item())\n",
    "\n",
    "    epoch_loss = running_loss / len(train_dataset)\n",
    "    train_loss_history.append(epoch_loss)\"\"\";"
   ],
   "id": "2dac92f8bc9fe977",
   "outputs": [],
   "execution_count": 17
  },
  {
   "metadata": {
    "ExecuteTime": {
     "end_time": "2024-06-04T04:23:09.147548Z",
     "start_time": "2024-06-04T04:22:37.330433Z"
    }
   },
   "cell_type": "code",
   "source": [
    "custom_model.eval()\n",
    "all_preds = []\n",
    "all_labels = []\n",
    "\n",
    "with torch.no_grad():\n",
    "    for inputs, labels in val_loader:\n",
    "        inputs, labels = inputs.to(DEVICE, non_blocking=True), labels.to(DEVICE, non_blocking=True)\n",
    "        outputs = custom_model(inputs)\n",
    "        _, preds = torch.max(outputs, 1)\n",
    "        all_preds.extend(preds.cpu().numpy())\n",
    "        all_labels.extend(labels.cpu().numpy())\n",
    "\n",
    "accuracy = accuracy_score(all_labels, all_preds)\n",
    "f1 = f1_score(all_labels, all_preds, average='macro')\n",
    "val_accuracy_history.append(accuracy)\n",
    "val_f1_history.append(f1)\n",
    "print(f'Validation Accuracy: {accuracy:.4f}, F1 Score: {f1:.4f}')"
   ],
   "id": "fcf8c43e6bb157ba",
   "outputs": [
    {
     "name": "stdout",
     "output_type": "stream",
     "text": [
      "Validation Accuracy: 0.8681, F1 Score: 0.8678\n"
     ]
    }
   ],
   "execution_count": 18
  },
  {
   "metadata": {
    "ExecuteTime": {
     "end_time": "2024-06-04T04:23:09.162548Z",
     "start_time": "2024-06-04T04:23:09.148549Z"
    }
   },
   "cell_type": "code",
   "source": "",
   "id": "c62ec8a5b88d495c",
   "outputs": [],
   "execution_count": 18
  }
 ],
 "metadata": {
  "kernelspec": {
   "display_name": "Python 3",
   "language": "python",
   "name": "python3"
  },
  "language_info": {
   "codemirror_mode": {
    "name": "ipython",
    "version": 2
   },
   "file_extension": ".py",
   "mimetype": "text/x-python",
   "name": "python",
   "nbconvert_exporter": "python",
   "pygments_lexer": "ipython2",
   "version": "2.7.6"
  }
 },
 "nbformat": 4,
 "nbformat_minor": 5
}
