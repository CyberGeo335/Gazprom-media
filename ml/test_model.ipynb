{
 "cells": [
  {
   "cell_type": "code",
   "id": "initial_id",
   "metadata": {
    "collapsed": true,
    "ExecuteTime": {
     "end_time": "2024-06-04T15:06:35.042360Z",
     "start_time": "2024-06-04T15:06:35.011360Z"
    }
   },
   "source": [
    "import torch\n",
    "from PIL import Image\n",
    "from torchvision import transforms\n"
   ],
   "outputs": [],
   "execution_count": 22
  },
  {
   "metadata": {
    "ExecuteTime": {
     "end_time": "2024-06-04T15:06:35.923099Z",
     "start_time": "2024-06-04T15:06:35.914101Z"
    }
   },
   "cell_type": "code",
   "source": "DEVICE = torch.device(\"cuda\" if torch.cuda.is_available() else \"cpu\")",
   "id": "fdfad6b6d67d3196",
   "outputs": [],
   "execution_count": 23
  },
  {
   "metadata": {
    "ExecuteTime": {
     "end_time": "2024-06-04T15:06:36.619053Z",
     "start_time": "2024-06-04T15:06:36.540056Z"
    }
   },
   "cell_type": "code",
   "source": [
    "# Загрузка модели\n",
    "traced_model = torch.jit.load(\"custom_model_traced_087.pt\").to(DEVICE)"
   ],
   "id": "db07ac3c300c8647",
   "outputs": [
    {
     "ename": "ValueError",
     "evalue": "The provided filename custom_model_traced_087.pt does not exist",
     "output_type": "error",
     "traceback": [
      "\u001B[1;31m---------------------------------------------------------------------------\u001B[0m",
      "\u001B[1;31mValueError\u001B[0m                                Traceback (most recent call last)",
      "Cell \u001B[1;32mIn[24], line 2\u001B[0m\n\u001B[0;32m      1\u001B[0m \u001B[38;5;66;03m# Загрузка модели\u001B[39;00m\n\u001B[1;32m----> 2\u001B[0m traced_model \u001B[38;5;241m=\u001B[39m \u001B[43mtorch\u001B[49m\u001B[38;5;241;43m.\u001B[39;49m\u001B[43mjit\u001B[49m\u001B[38;5;241;43m.\u001B[39;49m\u001B[43mload\u001B[49m\u001B[43m(\u001B[49m\u001B[38;5;124;43m\"\u001B[39;49m\u001B[38;5;124;43mcustom_model_traced_087.pt\u001B[39;49m\u001B[38;5;124;43m\"\u001B[39;49m\u001B[43m)\u001B[49m\u001B[38;5;241m.\u001B[39mto(DEVICE)\n",
      "File \u001B[1;32m~\\AppData\\Local\\Programs\\Python\\Python310\\lib\\site-packages\\torch\\jit\\_serialization.py:152\u001B[0m, in \u001B[0;36mload\u001B[1;34m(f, map_location, _extra_files, _restore_shapes)\u001B[0m\n\u001B[0;32m    150\u001B[0m \u001B[38;5;28;01mif\u001B[39;00m \u001B[38;5;28misinstance\u001B[39m(f, \u001B[38;5;28mstr\u001B[39m):\n\u001B[0;32m    151\u001B[0m     \u001B[38;5;28;01mif\u001B[39;00m \u001B[38;5;129;01mnot\u001B[39;00m os\u001B[38;5;241m.\u001B[39mpath\u001B[38;5;241m.\u001B[39mexists(f):  \u001B[38;5;66;03m# type: ignore[type-var]\u001B[39;00m\n\u001B[1;32m--> 152\u001B[0m         \u001B[38;5;28;01mraise\u001B[39;00m \u001B[38;5;167;01mValueError\u001B[39;00m(\u001B[38;5;124mf\u001B[39m\u001B[38;5;124m\"\u001B[39m\u001B[38;5;124mThe provided filename \u001B[39m\u001B[38;5;132;01m{\u001B[39;00mf\u001B[38;5;132;01m}\u001B[39;00m\u001B[38;5;124m does not exist\u001B[39m\u001B[38;5;124m\"\u001B[39m)  \u001B[38;5;66;03m# type: ignore[str-bytes-safe]\u001B[39;00m\n\u001B[0;32m    153\u001B[0m     \u001B[38;5;28;01mif\u001B[39;00m os\u001B[38;5;241m.\u001B[39mpath\u001B[38;5;241m.\u001B[39misdir(f):\n\u001B[0;32m    154\u001B[0m         \u001B[38;5;28;01mraise\u001B[39;00m \u001B[38;5;167;01mValueError\u001B[39;00m(\u001B[38;5;124mf\u001B[39m\u001B[38;5;124m\"\u001B[39m\u001B[38;5;124mThe provided filename \u001B[39m\u001B[38;5;132;01m{\u001B[39;00mf\u001B[38;5;132;01m}\u001B[39;00m\u001B[38;5;124m is a directory\u001B[39m\u001B[38;5;124m\"\u001B[39m)  \u001B[38;5;66;03m# type: ignore[str-bytes-safe]\u001B[39;00m\n",
      "\u001B[1;31mValueError\u001B[0m: The provided filename custom_model_traced_087.pt does not exist"
     ]
    }
   ],
   "execution_count": 24
  },
  {
   "metadata": {
    "ExecuteTime": {
     "end_time": "2024-06-04T15:06:41.349755Z",
     "start_time": "2024-06-04T15:06:41.336741Z"
    }
   },
   "cell_type": "code",
   "source": [
    "# Подготовка изображения\n",
    "def preprocess_image(image_path):\n",
    "    preprocess = transforms.Compose([\n",
    "        transforms.Resize(256),\n",
    "        transforms.CenterCrop(224),\n",
    "        transforms.ToTensor(),\n",
    "        transforms.Normalize(mean=[0.485, 0.456, 0.406], std=[0.229, 0.224, 0.225]),\n",
    "    ])\n",
    "    image = Image.open(image_path)\n",
    "    image = preprocess(image)\n",
    "    image = image.unsqueeze(0)  # Добавляем batch dimension\n",
    "    return image"
   ],
   "id": "1020f1188d75fdc4",
   "outputs": [],
   "execution_count": 25
  },
  {
   "metadata": {
    "ExecuteTime": {
     "end_time": "2024-06-04T15:06:42.170742Z",
     "start_time": "2024-06-04T15:06:42.149746Z"
    }
   },
   "cell_type": "code",
   "source": [
    "# Путь к изображению\n",
    "image_path = \"D:\\\\ProgPrj\\\\dsProjects\\\\gazprom-media\\\\ml\\\\train\\\\waffles\\\\6312.jpg\"\n",
    "image = preprocess_image(image_path).to(DEVICE)"
   ],
   "id": "2e31153601068c73",
   "outputs": [],
   "execution_count": 26
  },
  {
   "metadata": {
    "ExecuteTime": {
     "end_time": "2024-06-04T15:06:42.851366Z",
     "start_time": "2024-06-04T15:06:42.757368Z"
    }
   },
   "cell_type": "code",
   "source": [
    "# Выполнение предсказания\n",
    "traced_model.eval()\n",
    "with torch.no_grad():\n",
    "    output = traced_model(image)\n",
    "    _, predicted = torch.max(output, 1)\n",
    "\n",
    "print(f\"Predicted class: {predicted.item()}\")"
   ],
   "id": "46301939d1bc581b",
   "outputs": [
    {
     "name": "stdout",
     "output_type": "stream",
     "text": [
      "Predicted class: 100\n"
     ]
    }
   ],
   "execution_count": 27
  },
  {
   "metadata": {
    "ExecuteTime": {
     "end_time": "2024-06-04T13:24:10.944598Z",
     "start_time": "2024-06-04T13:24:10.930597Z"
    }
   },
   "cell_type": "code",
   "source": "",
   "id": "21c64e99fa3017fd",
   "outputs": [],
   "execution_count": 18
  },
  {
   "metadata": {
    "ExecuteTime": {
     "end_time": "2024-06-04T13:24:10.960597Z",
     "start_time": "2024-06-04T13:24:10.946599Z"
    }
   },
   "cell_type": "code",
   "source": "",
   "id": "c4c3e4f2e91a8807",
   "outputs": [],
   "execution_count": 18
  },
  {
   "metadata": {
    "ExecuteTime": {
     "end_time": "2024-06-04T13:24:10.976598Z",
     "start_time": "2024-06-04T13:24:10.961598Z"
    }
   },
   "cell_type": "code",
   "source": "",
   "id": "cf26dc769977a12e",
   "outputs": [],
   "execution_count": 18
  },
  {
   "metadata": {
    "ExecuteTime": {
     "end_time": "2024-06-04T13:24:10.992598Z",
     "start_time": "2024-06-04T13:24:10.978598Z"
    }
   },
   "cell_type": "code",
   "source": "",
   "id": "99b59d8000331e5a",
   "outputs": [],
   "execution_count": 18
  },
  {
   "metadata": {
    "ExecuteTime": {
     "end_time": "2024-06-04T13:24:11.008596Z",
     "start_time": "2024-06-04T13:24:10.995597Z"
    }
   },
   "cell_type": "code",
   "source": "",
   "id": "4c140cf2a65ff632",
   "outputs": [],
   "execution_count": 18
  },
  {
   "metadata": {
    "ExecuteTime": {
     "end_time": "2024-06-04T13:24:11.024597Z",
     "start_time": "2024-06-04T13:24:11.009598Z"
    }
   },
   "cell_type": "code",
   "source": "",
   "id": "a2489681d9533a8b",
   "outputs": [],
   "execution_count": 18
  },
  {
   "metadata": {
    "ExecuteTime": {
     "end_time": "2024-06-04T13:24:11.040598Z",
     "start_time": "2024-06-04T13:24:11.025597Z"
    }
   },
   "cell_type": "code",
   "source": "",
   "id": "5100caa77875d0ea",
   "outputs": [],
   "execution_count": 18
  },
  {
   "metadata": {
    "ExecuteTime": {
     "end_time": "2024-06-04T13:24:11.056598Z",
     "start_time": "2024-06-04T13:24:11.041598Z"
    }
   },
   "cell_type": "code",
   "source": "",
   "id": "cc6e651b53ed7d2a",
   "outputs": [],
   "execution_count": 18
  }
 ],
 "metadata": {
  "kernelspec": {
   "display_name": "Python 3",
   "language": "python",
   "name": "python3"
  },
  "language_info": {
   "codemirror_mode": {
    "name": "ipython",
    "version": 2
   },
   "file_extension": ".py",
   "mimetype": "text/x-python",
   "name": "python",
   "nbconvert_exporter": "python",
   "pygments_lexer": "ipython2",
   "version": "2.7.6"
  }
 },
 "nbformat": 4,
 "nbformat_minor": 5
}
